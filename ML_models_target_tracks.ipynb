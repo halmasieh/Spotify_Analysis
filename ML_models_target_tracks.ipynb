{
 "cells": [
  {
   "cell_type": "code",
   "execution_count": 1,
   "metadata": {},
   "outputs": [],
   "source": [
    "# Import dependencies\n",
    "import pandas as pd\n",
    "import numpy as np\n",
    "from sklearn.model_selection import train_test_split\n",
    "from sklearn.preprocessing import StandardScaler\n",
    "from sklearn.linear_model import LogisticRegression\n",
    "from sklearn.metrics import balanced_accuracy_score\n",
    "from imblearn.metrics import classification_report_imbalanced\n",
    "from sklearn.metrics import confusion_matrix, accuracy_score, classification_report\n",
    "from sklearn.metrics import accuracy_score\n",
    "# import tensorflow as tf\n",
    "import seaborn as sns\n",
    "from pathlib import Path\n",
    "import matplotlib.pyplot as plt"
   ]
  },
  {
   "cell_type": "code",
   "execution_count": 2,
   "metadata": {},
   "outputs": [
    {
     "data": {
      "text/html": [
       "<div>\n",
       "<style scoped>\n",
       "    .dataframe tbody tr th:only-of-type {\n",
       "        vertical-align: middle;\n",
       "    }\n",
       "\n",
       "    .dataframe tbody tr th {\n",
       "        vertical-align: top;\n",
       "    }\n",
       "\n",
       "    .dataframe thead th {\n",
       "        text-align: right;\n",
       "    }\n",
       "</style>\n",
       "<table border=\"1\" class=\"dataframe\">\n",
       "  <thead>\n",
       "    <tr style=\"text-align: right;\">\n",
       "      <th></th>\n",
       "      <th>track_popularity</th>\n",
       "      <th>duration_ms</th>\n",
       "      <th>explicit</th>\n",
       "      <th>key</th>\n",
       "      <th>time_signature</th>\n",
       "      <th>followers</th>\n",
       "      <th>artist_popularity</th>\n",
       "      <th>unique_playlists</th>\n",
       "      <th>danceability</th>\n",
       "      <th>energy</th>\n",
       "      <th>...</th>\n",
       "      <th>genres_classic bollywood</th>\n",
       "      <th>genres_classical era</th>\n",
       "      <th>genres_classical</th>\n",
       "      <th>genres_desi pop</th>\n",
       "      <th>genres_filmi</th>\n",
       "      <th>genres_hoerspiel</th>\n",
       "      <th>genres_sufi</th>\n",
       "      <th>genres_tango</th>\n",
       "      <th>genres_vintage tango</th>\n",
       "      <th>genres_other</th>\n",
       "    </tr>\n",
       "  </thead>\n",
       "  <tbody>\n",
       "    <tr>\n",
       "      <th>0</th>\n",
       "      <td>1.0</td>\n",
       "      <td>0.045291</td>\n",
       "      <td>0.0</td>\n",
       "      <td>0.545455</td>\n",
       "      <td>0.8</td>\n",
       "      <td>0.000041</td>\n",
       "      <td>0.36</td>\n",
       "      <td>0.0</td>\n",
       "      <td>0.628658</td>\n",
       "      <td>0.599</td>\n",
       "      <td>...</td>\n",
       "      <td>0.0</td>\n",
       "      <td>0.0</td>\n",
       "      <td>0.0</td>\n",
       "      <td>0.0</td>\n",
       "      <td>0.0</td>\n",
       "      <td>0.0</td>\n",
       "      <td>0.0</td>\n",
       "      <td>0.0</td>\n",
       "      <td>0.0</td>\n",
       "      <td>1.0</td>\n",
       "    </tr>\n",
       "    <tr>\n",
       "      <th>1</th>\n",
       "      <td>1.0</td>\n",
       "      <td>0.032864</td>\n",
       "      <td>0.0</td>\n",
       "      <td>0.181818</td>\n",
       "      <td>0.8</td>\n",
       "      <td>0.000230</td>\n",
       "      <td>0.48</td>\n",
       "      <td>0.0</td>\n",
       "      <td>0.629667</td>\n",
       "      <td>0.766</td>\n",
       "      <td>...</td>\n",
       "      <td>0.0</td>\n",
       "      <td>0.0</td>\n",
       "      <td>0.0</td>\n",
       "      <td>0.0</td>\n",
       "      <td>0.0</td>\n",
       "      <td>0.0</td>\n",
       "      <td>0.0</td>\n",
       "      <td>0.0</td>\n",
       "      <td>0.0</td>\n",
       "      <td>1.0</td>\n",
       "    </tr>\n",
       "    <tr>\n",
       "      <th>2</th>\n",
       "      <td>0.0</td>\n",
       "      <td>0.040952</td>\n",
       "      <td>0.0</td>\n",
       "      <td>0.636364</td>\n",
       "      <td>0.8</td>\n",
       "      <td>0.000066</td>\n",
       "      <td>0.38</td>\n",
       "      <td>0.0</td>\n",
       "      <td>0.577195</td>\n",
       "      <td>0.608</td>\n",
       "      <td>...</td>\n",
       "      <td>0.0</td>\n",
       "      <td>0.0</td>\n",
       "      <td>0.0</td>\n",
       "      <td>0.0</td>\n",
       "      <td>0.0</td>\n",
       "      <td>0.0</td>\n",
       "      <td>0.0</td>\n",
       "      <td>0.0</td>\n",
       "      <td>0.0</td>\n",
       "      <td>1.0</td>\n",
       "    </tr>\n",
       "    <tr>\n",
       "      <th>3</th>\n",
       "      <td>1.0</td>\n",
       "      <td>0.031660</td>\n",
       "      <td>0.0</td>\n",
       "      <td>0.181818</td>\n",
       "      <td>0.8</td>\n",
       "      <td>0.006968</td>\n",
       "      <td>0.73</td>\n",
       "      <td>0.0</td>\n",
       "      <td>0.258325</td>\n",
       "      <td>0.895</td>\n",
       "      <td>...</td>\n",
       "      <td>0.0</td>\n",
       "      <td>0.0</td>\n",
       "      <td>0.0</td>\n",
       "      <td>0.0</td>\n",
       "      <td>0.0</td>\n",
       "      <td>0.0</td>\n",
       "      <td>0.0</td>\n",
       "      <td>0.0</td>\n",
       "      <td>0.0</td>\n",
       "      <td>1.0</td>\n",
       "    </tr>\n",
       "    <tr>\n",
       "      <th>4</th>\n",
       "      <td>1.0</td>\n",
       "      <td>0.041927</td>\n",
       "      <td>0.0</td>\n",
       "      <td>0.363636</td>\n",
       "      <td>0.6</td>\n",
       "      <td>0.000201</td>\n",
       "      <td>0.44</td>\n",
       "      <td>0.0</td>\n",
       "      <td>0.624622</td>\n",
       "      <td>0.518</td>\n",
       "      <td>...</td>\n",
       "      <td>0.0</td>\n",
       "      <td>0.0</td>\n",
       "      <td>0.0</td>\n",
       "      <td>0.0</td>\n",
       "      <td>0.0</td>\n",
       "      <td>0.0</td>\n",
       "      <td>0.0</td>\n",
       "      <td>0.0</td>\n",
       "      <td>0.0</td>\n",
       "      <td>1.0</td>\n",
       "    </tr>\n",
       "  </tbody>\n",
       "</table>\n",
       "<p>5 rows × 30 columns</p>\n",
       "</div>"
      ],
      "text/plain": [
       "   track_popularity  duration_ms  explicit       key  time_signature  \\\n",
       "0               1.0     0.045291       0.0  0.545455             0.8   \n",
       "1               1.0     0.032864       0.0  0.181818             0.8   \n",
       "2               0.0     0.040952       0.0  0.636364             0.8   \n",
       "3               1.0     0.031660       0.0  0.181818             0.8   \n",
       "4               1.0     0.041927       0.0  0.363636             0.6   \n",
       "\n",
       "   followers  artist_popularity  unique_playlists  danceability  energy  ...  \\\n",
       "0   0.000041               0.36               0.0      0.628658   0.599  ...   \n",
       "1   0.000230               0.48               0.0      0.629667   0.766  ...   \n",
       "2   0.000066               0.38               0.0      0.577195   0.608  ...   \n",
       "3   0.006968               0.73               0.0      0.258325   0.895  ...   \n",
       "4   0.000201               0.44               0.0      0.624622   0.518  ...   \n",
       "\n",
       "   genres_classic bollywood  genres_classical era  genres_classical  \\\n",
       "0                       0.0                   0.0               0.0   \n",
       "1                       0.0                   0.0               0.0   \n",
       "2                       0.0                   0.0               0.0   \n",
       "3                       0.0                   0.0               0.0   \n",
       "4                       0.0                   0.0               0.0   \n",
       "\n",
       "   genres_desi pop  genres_filmi  genres_hoerspiel  genres_sufi  genres_tango  \\\n",
       "0              0.0           0.0               0.0          0.0           0.0   \n",
       "1              0.0           0.0               0.0          0.0           0.0   \n",
       "2              0.0           0.0               0.0          0.0           0.0   \n",
       "3              0.0           0.0               0.0          0.0           0.0   \n",
       "4              0.0           0.0               0.0          0.0           0.0   \n",
       "\n",
       "   genres_vintage tango  genres_other  \n",
       "0                   0.0           1.0  \n",
       "1                   0.0           1.0  \n",
       "2                   0.0           1.0  \n",
       "3                   0.0           1.0  \n",
       "4                   0.0           1.0  \n",
       "\n",
       "[5 rows x 30 columns]"
      ]
     },
     "execution_count": 2,
     "metadata": {},
     "output_type": "execute_result"
    }
   ],
   "source": [
    "# Import the input dataset\n",
    "tracks_path = 'Resources/pre_spotify_target_tracks.csv'\n",
    "tracks_df = pd.read_csv(tracks_path)\n",
    "tracks_df.head()"
   ]
  },
  {
   "cell_type": "code",
   "execution_count": 3,
   "metadata": {},
   "outputs": [
    {
     "data": {
      "text/plain": [
       "Index(['track_popularity', 'duration_ms', 'explicit', 'key', 'time_signature',\n",
       "       'followers', 'artist_popularity', 'unique_playlists', 'danceability',\n",
       "       'energy', 'loudness', 'mode', 'speechiness', 'acousticness',\n",
       "       'instrumentalness', 'liveness', 'valence', 'tempo', 'artist_frequency',\n",
       "       'Year', 'genres_classic bollywood', 'genres_classical era',\n",
       "       'genres_classical', 'genres_desi pop', 'genres_filmi',\n",
       "       'genres_hoerspiel', 'genres_sufi', 'genres_tango',\n",
       "       'genres_vintage tango', 'genres_other'],\n",
       "      dtype='object')"
      ]
     },
     "execution_count": 3,
     "metadata": {},
     "output_type": "execute_result"
    }
   ],
   "source": [
    "tracks_df.columns"
   ]
  },
  {
   "cell_type": "code",
   "execution_count": 4,
   "metadata": {},
   "outputs": [],
   "source": [
    "# Remove track_popularity target from features data\n",
    "y = tracks_df.track_popularity\n",
    "X = tracks_df.drop(columns=[\"track_popularity\"])\n",
    "\n",
    "# Split training/test datasets\n",
    "X_train, X_test, y_train, y_test = train_test_split(X, y, random_state=42)\n",
    "\n",
    "# Create a StandardScaler instance\n",
    "scaler = StandardScaler()\n",
    "\n",
    "# Fit the StandardScaler\n",
    "X_scaler = scaler.fit(X_train)\n",
    "\n",
    "# Scale the data\n",
    "X_train = X_scaler.transform(X_train)\n",
    "X_test = X_scaler.transform(X_test)"
   ]
  },
  {
   "cell_type": "markdown",
   "metadata": {},
   "source": [
    "## Model 1: Logistic Regression"
   ]
  },
  {
   "cell_type": "code",
   "execution_count": 5,
   "metadata": {},
   "outputs": [],
   "source": [
    "from sklearn.linear_model import LogisticRegression\n",
    "\n",
    "# Train model\n",
    "model1 = LogisticRegression(solver=\"lbfgs\",max_iter=1000)\n",
    "\n",
    "# Fit model\n",
    "model1 = model1.fit(X_train, y_train)\n",
    "\n",
    "# Predict probability\n",
    "pred_prob1 = model1.predict_proba(X_test)\n",
    "prediction1 = model1.predict(X_test)"
   ]
  },
  {
   "cell_type": "code",
   "execution_count": 6,
   "metadata": {},
   "outputs": [
    {
     "name": "stdout",
     "output_type": "stream",
     "text": [
      "[[0.88511435 0.11488565]\n",
      " [0.98001873 0.01998127]\n",
      " [0.60563888 0.39436112]\n",
      " ...\n",
      " [0.74204155 0.25795845]\n",
      " [0.51663356 0.48336644]\n",
      " [0.97132956 0.02867044]]\n"
     ]
    }
   ],
   "source": [
    "print(pred_prob1)"
   ]
  },
  {
   "cell_type": "code",
   "execution_count": 7,
   "metadata": {},
   "outputs": [
    {
     "name": "stdout",
     "output_type": "stream",
     "text": [
      "[0. 0. 0. ... 0. 0. 0.]\n"
     ]
    }
   ],
   "source": [
    "print(prediction1)"
   ]
  },
  {
   "cell_type": "code",
   "execution_count": 8,
   "metadata": {},
   "outputs": [
    {
     "data": {
      "image/png": "[encoded data removed]",
      "text/plain": [
       "<Figure size 216x216 with 1 Axes>"
      ]
     },
     "metadata": {},
     "output_type": "display_data"
    }
   ],
   "source": [
    "# Define a function to create a nicer looking confusion matrix\n",
    "sns.set(font_scale=1.5)\n",
    "def plot_confusion_matrix(y_test,y_pred):\n",
    "    fig,ax = plt.subplots(figsize=(3,3))\n",
    "    ax = sns.heatmap(confusion_matrix(y_test, y_pred), annot=True, cbar=False, cmap=\"twilight_r\")\n",
    "    plt.xlabel(\"Predicted Target\")\n",
    "    plt.ylabel(\"Actual Target\")\n",
    "plot_confusion_matrix(y_test, prediction1)"
   ]
  },
  {
   "cell_type": "code",
   "execution_count": 9,
   "metadata": {},
   "outputs": [
    {
     "name": "stdout",
     "output_type": "stream",
     "text": [
      "Accuracy Score : 0.7621132982566057\n",
      "Classification Report\n",
      "              precision    recall  f1-score   support\n",
      "\n",
      "         0.0       0.79      0.78      0.78     85467\n",
      "         1.0       0.73      0.75      0.74     70952\n",
      "\n",
      "    accuracy                           0.76    156419\n",
      "   macro avg       0.76      0.76      0.76    156419\n",
      "weighted avg       0.76      0.76      0.76    156419\n",
      "\n"
     ]
    }
   ],
   "source": [
    "# Calculating the accuracy score.\n",
    "acc_score = accuracy_score(y_test, prediction1)\n",
    "\n",
    "# Displaying results\n",
    "print(f\"Accuracy Score : {acc_score}\")\n",
    "print(\"Classification Report\")\n",
    "print(classification_report(y_test, prediction1))"
   ]
  },
  {
   "cell_type": "code",
   "execution_count": 10,
   "metadata": {},
   "outputs": [
    {
     "data": {
      "text/plain": [
       "['model1.joblib']"
      ]
     },
     "execution_count": 10,
     "metadata": {},
     "output_type": "execute_result"
    }
   ],
   "source": [
    "from joblib import dump, load\n",
    "\n",
    "# Save the model\n",
    "dump(model1, 'model1.joblib')"
   ]
  },
  {
   "cell_type": "code",
   "execution_count": 11,
   "metadata": {},
   "outputs": [],
   "source": [
    "# Load the model\n",
    "model1 = load('model1.joblib')\n",
    "\n",
    "# Predict probability\n",
    "pred_prob1 = model1.predict_proba(X_test)\n",
    "prediction1 = model1.predict(X_test)"
   ]
  },
  {
   "cell_type": "markdown",
   "metadata": {},
   "source": [
    "## Model 2: Easy Ensemble AdaBoost Classifier"
   ]
  },
  {
   "cell_type": "code",
   "execution_count": 12,
   "metadata": {},
   "outputs": [],
   "source": [
    "# from imblearn.ensemble import EasyEnsembleClassifier\n",
    "\n",
    "# # Create a an easy ensemble classifier.\n",
    "# model2 = EasyEnsembleClassifier(n_estimators=100, random_state=1)\n",
    "\n",
    "# # Fit the model\n",
    "# model2 =model2.fit(X_train, y_train)\n",
    "\n",
    "# # Predict probability\n",
    "# pred_prob2 = model2.predict_proba(X_test)\n",
    "# prediction2 = model2.predict(X_test)"
   ]
  },
  {
   "cell_type": "code",
   "execution_count": 13,
   "metadata": {},
   "outputs": [],
   "source": [
    "# # Create the confusion matrix \n",
    "# plot_confusion_matrix(y_test, prediction2)"
   ]
  },
  {
   "cell_type": "code",
   "execution_count": 14,
   "metadata": {},
   "outputs": [],
   "source": [
    "# #  Calculate the accuracy score.\n",
    "# acc_score = accuracy_score(y_test, prediction2)\n",
    "\n",
    "# # Display the results\n",
    "# print(f\"Accuracy Score : {acc_score}\")\n",
    "# print(\"Classification Report\")\n",
    "# print(classification_report_imbalanced(y_test, prediction2))"
   ]
  },
  {
   "cell_type": "code",
   "execution_count": 15,
   "metadata": {},
   "outputs": [],
   "source": [
    "# # Save the model \n",
    "# dump(model2, 'model2.joblib')"
   ]
  },
  {
   "cell_type": "code",
   "execution_count": 16,
   "metadata": {},
   "outputs": [],
   "source": [
    "# Load the model\n",
    "model2 = load('model2.joblib')\n",
    "\n",
    "# Predict probability\n",
    "pred_prob2 = model2.predict_proba(X_test)\n",
    "prediction2 = model2.predict(X_test)"
   ]
  },
  {
   "cell_type": "markdown",
   "metadata": {},
   "source": [
    "## Model 3: Decision Trees"
   ]
  },
  {
   "cell_type": "code",
   "execution_count": 17,
   "metadata": {},
   "outputs": [],
   "source": [
    "# from sklearn import tree\n",
    "\n",
    "# # Creating the decision tree classifier instance.\n",
    "# model3 = tree.DecisionTreeClassifier()\n",
    "\n",
    "# # Fit the model.\n",
    "# model3 = model3.fit(X_train, y_train)\n",
    "\n",
    "# # Predict probability\n",
    "# pred_prob3 = model3.predict_proba(X_test)\n",
    "# prediction3 = model3.predict(X_test)"
   ]
  },
  {
   "cell_type": "code",
   "execution_count": 18,
   "metadata": {},
   "outputs": [],
   "source": [
    "# # Create the confusion matrix \n",
    "# plot_confusion_matrix(y_test, prediction3)"
   ]
  },
  {
   "cell_type": "code",
   "execution_count": 19,
   "metadata": {},
   "outputs": [],
   "source": [
    "# # Calculating the accuracy score.\n",
    "# acc_score = accuracy_score(y_test, prediction3)\n",
    "\n",
    "# # Displaying results\n",
    "# print(f\"Accuracy Score : {acc_score}\")\n",
    "# print(\"Classification Report\")\n",
    "# print(classification_report(y_test, prediction3))"
   ]
  },
  {
   "cell_type": "code",
   "execution_count": 20,
   "metadata": {},
   "outputs": [],
   "source": [
    "# # Save the model\n",
    "# dump(model3, 'model3.joblib')"
   ]
  },
  {
   "cell_type": "code",
   "execution_count": 21,
   "metadata": {},
   "outputs": [],
   "source": [
    "# Load the model\n",
    "model3 = load('model3.joblib')\n",
    "\n",
    "# Predict probability\n",
    "pred_prob3 = model3.predict_proba(X_test)\n",
    "prediction3 = model3.predict(X_test)"
   ]
  },
  {
   "cell_type": "markdown",
   "metadata": {},
   "source": [
    "## Model 4: Random Forest"
   ]
  },
  {
   "cell_type": "code",
   "execution_count": 22,
   "metadata": {},
   "outputs": [],
   "source": [
    "# from sklearn.ensemble import RandomForestClassifier\n",
    "\n",
    "# # Create a random forest classifier.\n",
    "# model4 = RandomForestClassifier(n_estimators=128, random_state=78)\n",
    "\n",
    "# # Fit the model\n",
    "# model4 =model4.fit(X_train, y_train)\n",
    "\n",
    "# # predict probability\n",
    "# pred_prob4 = model4.predict_proba(X_test)\n",
    "# prediction4 = model4.predict(X_test)"
   ]
  },
  {
   "cell_type": "code",
   "execution_count": 23,
   "metadata": {},
   "outputs": [],
   "source": [
    "# # Create the confusion matrix \n",
    "# plot_confusion_matrix(y_test, prediction4)"
   ]
  },
  {
   "cell_type": "code",
   "execution_count": 24,
   "metadata": {},
   "outputs": [],
   "source": [
    "# # Calculating the accuracy score.\n",
    "# acc_score = accuracy_score(y_test, prediction4)\n",
    "\n",
    "# # Displaying results\n",
    "# print(f\"Accuracy Score : {acc_score}\")\n",
    "# print(\"Classification Report\")\n",
    "# print(classification_report(y_test, prediction4))"
   ]
  },
  {
   "cell_type": "code",
   "execution_count": 25,
   "metadata": {},
   "outputs": [],
   "source": [
    "# # Save the model\n",
    "# dump(model4, 'model4.joblib')"
   ]
  },
  {
   "cell_type": "code",
   "execution_count": 26,
   "metadata": {},
   "outputs": [],
   "source": [
    "# Load the model\n",
    "model4 = load('model4.joblib')\n",
    "\n",
    "# Predict probability\n",
    "pred_prob4 = model4.predict_proba(X_test)\n",
    "prediction4 = model4.predict(X_test)"
   ]
  },
  {
   "cell_type": "code",
   "execution_count": 27,
   "metadata": {},
   "outputs": [
    {
     "data": {
      "text/plain": [
       "array([5.05285235e-02, 4.32807491e-03, 2.20521197e-02, 4.55406764e-03,\n",
       "       9.63406057e-02, 1.38697029e-01, 2.54845471e-02, 4.18588705e-02,\n",
       "       4.86614717e-02, 5.60656180e-02, 5.62517142e-03, 4.10042278e-02,\n",
       "       6.61832543e-02, 3.64820983e-02, 3.99367508e-02, 4.01389045e-02,\n",
       "       3.99132371e-02, 8.22793338e-02, 1.56999118e-01, 1.78322477e-05,\n",
       "       1.55509872e-06, 5.71290805e-06, 2.36633415e-06, 3.95773012e-04,\n",
       "       1.38980989e-03, 2.63011703e-07, 5.26785789e-06, 1.36939385e-06,\n",
       "       1.04702690e-03])"
      ]
     },
     "execution_count": 27,
     "metadata": {},
     "output_type": "execute_result"
    }
   ],
   "source": [
    "# Calculate feature importance in the Random Forest model.\n",
    "importances = model4.feature_importances_\n",
    "importances"
   ]
  },
  {
   "cell_type": "code",
   "execution_count": 28,
   "metadata": {},
   "outputs": [
    {
     "data": {
      "text/plain": [
       "[(0.15699911810565703, 'Year'),\n",
       " (0.1386970285043514, 'artist_popularity'),\n",
       " (0.09634060572512912, 'followers'),\n",
       " (0.0822793337857757, 'artist_frequency'),\n",
       " (0.06618325425731485, 'acousticness'),\n",
       " (0.05606561804383842, 'loudness'),\n",
       " (0.05052852354732077, 'duration_ms'),\n",
       " (0.0486614716858553, 'energy'),\n",
       " (0.041858870463724066, 'danceability'),\n",
       " (0.041004227786380944, 'speechiness'),\n",
       " (0.04013890447991684, 'valence'),\n",
       " (0.0399367508134231, 'liveness'),\n",
       " (0.039913237072897796, 'tempo'),\n",
       " (0.03648209827535339, 'instrumentalness'),\n",
       " (0.025484547096622737, 'unique_playlists'),\n",
       " (0.022052119733533843, 'key'),\n",
       " (0.005625171421006761, 'mode'),\n",
       " (0.00455406763818066, 'time_signature'),\n",
       " (0.004328074909234382, 'explicit'),\n",
       " (0.0013898098936876763, 'genres_hoerspiel'),\n",
       " (0.001047026896677569, 'genres_other'),\n",
       " (0.0003957730120454269, 'genres_filmi'),\n",
       " (1.783224771781693e-05, 'genres_classic bollywood'),\n",
       " (5.712908050656121e-06, 'genres_classical'),\n",
       " (5.26785788699317e-06, 'genres_tango'),\n",
       " (2.3663341451821627e-06, 'genres_desi pop'),\n",
       " (1.555098721030333e-06, 'genres_classical era'),\n",
       " (1.3693938477534409e-06, 'genres_vintage tango'),\n",
       " (2.6301170282306615e-07, 'genres_sufi')]"
      ]
     },
     "execution_count": 28,
     "metadata": {},
     "output_type": "execute_result"
    }
   ],
   "source": [
    "# Sort the features by their importance.\n",
    "sorted(zip(model4.feature_importances_, X.columns), reverse=True)"
   ]
  },
  {
   "cell_type": "code",
   "execution_count": 29,
   "metadata": {},
   "outputs": [],
   "source": [
    "# Format the values in 2 decimals \n",
    "pd.set_option('display.float_format', \"{:.2f}\".format)"
   ]
  },
  {
   "cell_type": "code",
   "execution_count": 30,
   "metadata": {},
   "outputs": [
    {
     "data": {
      "text/html": [
       "<div>\n",
       "<style scoped>\n",
       "    .dataframe tbody tr th:only-of-type {\n",
       "        vertical-align: middle;\n",
       "    }\n",
       "\n",
       "    .dataframe tbody tr th {\n",
       "        vertical-align: top;\n",
       "    }\n",
       "\n",
       "    .dataframe thead th {\n",
       "        text-align: right;\n",
       "    }\n",
       "</style>\n",
       "<table border=\"1\" class=\"dataframe\">\n",
       "  <thead>\n",
       "    <tr style=\"text-align: right;\">\n",
       "      <th></th>\n",
       "      <th>features</th>\n",
       "      <th>feature_importance</th>\n",
       "    </tr>\n",
       "  </thead>\n",
       "  <tbody>\n",
       "    <tr>\n",
       "      <th>0</th>\n",
       "      <td>Year</td>\n",
       "      <td>0.16</td>\n",
       "    </tr>\n",
       "    <tr>\n",
       "      <th>1</th>\n",
       "      <td>artist_popularity</td>\n",
       "      <td>0.14</td>\n",
       "    </tr>\n",
       "    <tr>\n",
       "      <th>2</th>\n",
       "      <td>followers</td>\n",
       "      <td>0.10</td>\n",
       "    </tr>\n",
       "    <tr>\n",
       "      <th>3</th>\n",
       "      <td>artist_frequency</td>\n",
       "      <td>0.08</td>\n",
       "    </tr>\n",
       "    <tr>\n",
       "      <th>4</th>\n",
       "      <td>acousticness</td>\n",
       "      <td>0.07</td>\n",
       "    </tr>\n",
       "    <tr>\n",
       "      <th>5</th>\n",
       "      <td>loudness</td>\n",
       "      <td>0.06</td>\n",
       "    </tr>\n",
       "    <tr>\n",
       "      <th>6</th>\n",
       "      <td>duration_ms</td>\n",
       "      <td>0.05</td>\n",
       "    </tr>\n",
       "    <tr>\n",
       "      <th>7</th>\n",
       "      <td>energy</td>\n",
       "      <td>0.05</td>\n",
       "    </tr>\n",
       "    <tr>\n",
       "      <th>8</th>\n",
       "      <td>danceability</td>\n",
       "      <td>0.04</td>\n",
       "    </tr>\n",
       "    <tr>\n",
       "      <th>9</th>\n",
       "      <td>speechiness</td>\n",
       "      <td>0.04</td>\n",
       "    </tr>\n",
       "    <tr>\n",
       "      <th>10</th>\n",
       "      <td>valence</td>\n",
       "      <td>0.04</td>\n",
       "    </tr>\n",
       "    <tr>\n",
       "      <th>11</th>\n",
       "      <td>liveness</td>\n",
       "      <td>0.04</td>\n",
       "    </tr>\n",
       "    <tr>\n",
       "      <th>12</th>\n",
       "      <td>tempo</td>\n",
       "      <td>0.04</td>\n",
       "    </tr>\n",
       "    <tr>\n",
       "      <th>13</th>\n",
       "      <td>instrumentalness</td>\n",
       "      <td>0.04</td>\n",
       "    </tr>\n",
       "    <tr>\n",
       "      <th>14</th>\n",
       "      <td>unique_playlists</td>\n",
       "      <td>0.03</td>\n",
       "    </tr>\n",
       "    <tr>\n",
       "      <th>15</th>\n",
       "      <td>key</td>\n",
       "      <td>0.02</td>\n",
       "    </tr>\n",
       "    <tr>\n",
       "      <th>16</th>\n",
       "      <td>mode</td>\n",
       "      <td>0.01</td>\n",
       "    </tr>\n",
       "    <tr>\n",
       "      <th>17</th>\n",
       "      <td>time_signature</td>\n",
       "      <td>0.00</td>\n",
       "    </tr>\n",
       "    <tr>\n",
       "      <th>18</th>\n",
       "      <td>explicit</td>\n",
       "      <td>0.00</td>\n",
       "    </tr>\n",
       "    <tr>\n",
       "      <th>19</th>\n",
       "      <td>genres_hoerspiel</td>\n",
       "      <td>0.00</td>\n",
       "    </tr>\n",
       "    <tr>\n",
       "      <th>20</th>\n",
       "      <td>genres_other</td>\n",
       "      <td>0.00</td>\n",
       "    </tr>\n",
       "    <tr>\n",
       "      <th>21</th>\n",
       "      <td>genres_filmi</td>\n",
       "      <td>0.00</td>\n",
       "    </tr>\n",
       "    <tr>\n",
       "      <th>22</th>\n",
       "      <td>genres_classic bollywood</td>\n",
       "      <td>0.00</td>\n",
       "    </tr>\n",
       "    <tr>\n",
       "      <th>23</th>\n",
       "      <td>genres_classical</td>\n",
       "      <td>0.00</td>\n",
       "    </tr>\n",
       "    <tr>\n",
       "      <th>24</th>\n",
       "      <td>genres_tango</td>\n",
       "      <td>0.00</td>\n",
       "    </tr>\n",
       "    <tr>\n",
       "      <th>25</th>\n",
       "      <td>genres_desi pop</td>\n",
       "      <td>0.00</td>\n",
       "    </tr>\n",
       "    <tr>\n",
       "      <th>26</th>\n",
       "      <td>genres_classical era</td>\n",
       "      <td>0.00</td>\n",
       "    </tr>\n",
       "    <tr>\n",
       "      <th>27</th>\n",
       "      <td>genres_vintage tango</td>\n",
       "      <td>0.00</td>\n",
       "    </tr>\n",
       "    <tr>\n",
       "      <th>28</th>\n",
       "      <td>genres_sufi</td>\n",
       "      <td>0.00</td>\n",
       "    </tr>\n",
       "  </tbody>\n",
       "</table>\n",
       "</div>"
      ],
      "text/plain": [
       "                    features  feature_importance\n",
       "0                       Year                0.16\n",
       "1          artist_popularity                0.14\n",
       "2                  followers                0.10\n",
       "3           artist_frequency                0.08\n",
       "4               acousticness                0.07\n",
       "5                   loudness                0.06\n",
       "6                duration_ms                0.05\n",
       "7                     energy                0.05\n",
       "8               danceability                0.04\n",
       "9                speechiness                0.04\n",
       "10                   valence                0.04\n",
       "11                  liveness                0.04\n",
       "12                     tempo                0.04\n",
       "13          instrumentalness                0.04\n",
       "14          unique_playlists                0.03\n",
       "15                       key                0.02\n",
       "16                      mode                0.01\n",
       "17            time_signature                0.00\n",
       "18                  explicit                0.00\n",
       "19          genres_hoerspiel                0.00\n",
       "20              genres_other                0.00\n",
       "21              genres_filmi                0.00\n",
       "22  genres_classic bollywood                0.00\n",
       "23          genres_classical                0.00\n",
       "24              genres_tango                0.00\n",
       "25           genres_desi pop                0.00\n",
       "26      genres_classical era                0.00\n",
       "27      genres_vintage tango                0.00\n",
       "28               genres_sufi                0.00"
      ]
     },
     "execution_count": 30,
     "metadata": {},
     "output_type": "execute_result"
    }
   ],
   "source": [
    "# Create a dataframe and sort the values in descending order\n",
    "feature_importance_df = pd.DataFrame({\"features\": X.columns, \"feature_importance\": model4.feature_importances_})\n",
    "feature_importance_df = feature_importance_df.sort_values(\"feature_importance\", ascending=False).reset_index(drop=True)\n",
    "feature_importance_df.head(30)"
   ]
  },
  {
   "cell_type": "code",
   "execution_count": 31,
   "metadata": {},
   "outputs": [
    {
     "data": {
      "image/png": "[encoded data removed]",
      "text/plain": [
       "<Figure size 1008x720 with 1 Axes>"
      ]
     },
     "metadata": {},
     "output_type": "display_data"
    }
   ],
   "source": [
    "# Plot the dataframe for the first ten observations\n",
    "fig,ax = plt.subplots(figsize=(14,10)) \n",
    "ax.barh(feature_importance_df['features'][:10],\n",
    "       feature_importance_df['feature_importance'][:10])\n",
    "ax.invert_yaxis()"
   ]
  },
  {
   "cell_type": "markdown",
   "metadata": {},
   "source": [
    "## Feature Selection Method"
   ]
  },
  {
   "cell_type": "markdown",
   "metadata": {},
   "source": [
    "### Sequential Feature Selection\n",
    "Sequential Feature Selection [sfs] (SFS) is available in the SequentialFeatureSelector transformer. SFS can be either forward or backward:\n",
    "\n",
    "Forward-SFS is a greedy procedure that iteratively finds the best new feature to add to the set of selected features. Concretely, we initially start with zero feature and find the one feature that maximizes a cross-validated score when an estimator is trained on this single feature. Once that first feature is selected, we repeat the procedure by adding a new feature to the set of selected features. The procedure stops when the desired number of selected features is reached, as determined by the n_features_to_select parameter.\n",
    "\n",
    "Backward-SFS follows the same idea but works in the opposite direction: instead of starting with no feature and greedily adding features, we start with all the features and greedily remove features from the set. The direction parameter controls whether forward or backward SFS is used.\n",
    "\n",
    "In general, forward and backward selection do not yield equivalent results. Also, one may be much faster than the other depending on the requested number of selected features: if we have 10 features and ask for 7 selected features, forward selection would need to perform 7 iterations while backward selection would only need to perform 3.\n",
    "\n",
    "SFS differs from RFE and SelectFromModel in that it does not require the underlying model to expose a coef_ or feature_importances_ attribute. It may however be slower considering that more models need to be evaluated, compared to the other approaches. For example in backward selection, the iteration going from m features to m - 1 features using k-fold cross-validation requires fitting m * k models, while RFE would require only a single fit, and SelectFromModel always just does a single fit and requires no iterations."
   ]
  },
  {
   "cell_type": "markdown",
   "metadata": {},
   "source": [
    "## Backward Feature Selection"
   ]
  },
  {
   "cell_type": "code",
   "execution_count": 32,
   "metadata": {},
   "outputs": [],
   "source": [
    "from sklearn.feature_selection import SequentialFeatureSelector\n",
    "from time import time"
   ]
  },
  {
   "cell_type": "code",
   "execution_count": 33,
   "metadata": {},
   "outputs": [],
   "source": [
    "# Remove target from features data\n",
    "y = tracks_df.track_popularity\n",
    "X = tracks_df.drop(columns=[\"track_popularity\"])"
   ]
  },
  {
   "cell_type": "code",
   "execution_count": 34,
   "metadata": {},
   "outputs": [],
   "source": [
    "# # Train the model\n",
    "# model_Log = LogisticRegression(solver=\"lbfgs\",max_iter=1000)"
   ]
  },
  {
   "cell_type": "code",
   "execution_count": 35,
   "metadata": {},
   "outputs": [],
   "source": [
    "# # Use backward feature selection to reduce the number of features\n",
    "# sfs = SequentialFeatureSelector(model_Log, n_features_to_select=None, direction='backward')"
   ]
  },
  {
   "cell_type": "code",
   "execution_count": 36,
   "metadata": {},
   "outputs": [],
   "source": [
    "# # Fit the sequential feature selector model (This line of code took three days to execute)\n",
    "# sfs.fit(X, y) "
   ]
  },
  {
   "cell_type": "code",
   "execution_count": 37,
   "metadata": {},
   "outputs": [],
   "source": [
    "# from joblib import dump, load\n",
    "\n",
    "# # Save the model\n",
    "# dump(sfs, 'model_sfs_track.joblib')"
   ]
  },
  {
   "cell_type": "code",
   "execution_count": 38,
   "metadata": {},
   "outputs": [],
   "source": [
    "# Load the model\n",
    "sfs = load('model_sfs_track.joblib')"
   ]
  },
  {
   "cell_type": "code",
   "execution_count": 39,
   "metadata": {},
   "outputs": [
    {
     "data": {
      "text/plain": [
       "array([ True,  True, False,  True, False,  True, False, False,  True,\n",
       "        True, False, False,  True,  True,  True,  True, False,  True,\n",
       "        True, False, False, False, False,  True,  True, False, False,\n",
       "       False, False])"
      ]
     },
     "execution_count": 39,
     "metadata": {},
     "output_type": "execute_result"
    }
   ],
   "source": [
    "# Get the number of features using backward feature selection\n",
    "# Features: 'duration_ms', 'explicit', 'time_signature', 'artist_popularity',\n",
    "# 'energy', 'loudness', 'acousticness', 'instrumentalness'\n",
    "# 'liveness', 'valence', 'artist_frequency', 'year', 'genres_filmi', 'genres_hoerspiel'\n",
    "sfs.get_support()"
   ]
  },
  {
   "cell_type": "code",
   "execution_count": 40,
   "metadata": {},
   "outputs": [
    {
     "name": "stdout",
     "output_type": "stream",
     "text": [
      "(625676, 14)\n"
     ]
    }
   ],
   "source": [
    "# Transform X and print the X_new shape\n",
    "X_new = sfs.transform(X)\n",
    "print(X_new.shape)"
   ]
  },
  {
   "cell_type": "code",
   "execution_count": 41,
   "metadata": {},
   "outputs": [
    {
     "name": "stdout",
     "output_type": "stream",
     "text": [
      "(625676,)\n"
     ]
    }
   ],
   "source": [
    "# Print the y shape\n",
    "print(y.shape)"
   ]
  },
  {
   "cell_type": "code",
   "execution_count": 42,
   "metadata": {},
   "outputs": [],
   "source": [
    "# Split training/test datasets\n",
    "X_train1, X_test1, y_train1, y_test1 = train_test_split(X_new, y, random_state=42)"
   ]
  },
  {
   "cell_type": "code",
   "execution_count": 43,
   "metadata": {},
   "outputs": [],
   "source": [
    "# Random Forest Classifier using feature selection"
   ]
  },
  {
   "cell_type": "code",
   "execution_count": 44,
   "metadata": {},
   "outputs": [],
   "source": [
    "# from sklearn.ensemble import RandomForestClassifier\n",
    "\n",
    "# # Create a random forest classifier. Random Forest with feature selection tracks (RFWFST)\n",
    "# RFWFST = RandomForestClassifier(n_estimators=128, random_state=78)\n",
    "\n",
    "# # Fit the model\n",
    "# RFWFST = RFWFST.fit(X_train1,y_train1)\n",
    "\n",
    "# # Predict probability\n",
    "# pred_prob_RFWFST = RFWFST.predict_proba(X_test1)\n",
    "# prediction_RFWFST = RFWFST.predict(X_test1)"
   ]
  },
  {
   "cell_type": "code",
   "execution_count": 45,
   "metadata": {},
   "outputs": [],
   "source": [
    "# # Create the confusion matrix \n",
    "# plot_confusion_matrix(y_test1, prediction_RFWFST)"
   ]
  },
  {
   "cell_type": "code",
   "execution_count": 46,
   "metadata": {},
   "outputs": [],
   "source": [
    "# # Calculating the accuracy score.\n",
    "# acc_score = accuracy_score(y_test1, prediction_RFWFST)\n",
    "\n",
    "# # Displaying results\n",
    "# print(f\"Accuracy Score : {acc_score}\")\n",
    "# print(\"Classification Report\")\n",
    "# print(classification_report(y_test1, prediction_RFWFST))"
   ]
  },
  {
   "cell_type": "code",
   "execution_count": 47,
   "metadata": {},
   "outputs": [],
   "source": [
    "# # Save the model\n",
    "# dump(RFWFST, 'model_RFWFST.joblib')"
   ]
  },
  {
   "cell_type": "code",
   "execution_count": 48,
   "metadata": {},
   "outputs": [],
   "source": [
    "# Load the model\n",
    "RFWFST = load('model_RFWFST.joblib')\n",
    "\n",
    "# Predict probability\n",
    "pred_prob_RFWFST = RFWFST.predict_proba(X_test1)\n",
    "prediction_RFWFST = RFWFST.predict(X_test1)"
   ]
  },
  {
   "cell_type": "raw",
   "metadata": {},
   "source": [
    "Using the backward feature selection, we reduced the number of features to 14 and then applied the Random Forest classifier to the new data set. Comparing the results, it can be seen that the accuracy score of the model has decreased to 0.813.   "
   ]
  },
  {
   "cell_type": "markdown",
   "metadata": {},
   "source": [
    "## Models Evaluation "
   ]
  },
  {
   "cell_type": "markdown",
   "metadata": {},
   "source": [
    "From the numerous ways to evaluate the performance of a classifier, we use the difference between two popular performance reporting methods: Precision-Recall (PR) Curve and Receiver Operating Characteristic (ROC) Curve.\n",
    "\n",
    "### Precision-Recall (PR) Curve: \n",
    "A PR curve is simply a graph with Precision values on the y-axis and Recall values on the x-axis. In other words, the PR curve contains TP/(TP+FN) on the y-axis and TP/(TP+FP) on the x-axis. It is desired that the algorithm should have both high precision, and high recall. However, most machine learning algorithms often involve a trade-off between the two. A good PR curve has greater AUC (area under curve)."
   ]
  },
  {
   "cell_type": "markdown",
   "metadata": {},
   "source": [
    "## Precision-Recall curve  "
   ]
  },
  {
   "cell_type": "code",
   "execution_count": 50,
   "metadata": {},
   "outputs": [
    {
     "name": "stdout",
     "output_type": "stream",
     "text": [
      "Average precision score Logistic Regression: 0.66\n",
      "Average precision score Easy Ensemble AdaBoost: 0.68\n",
      "Average precision score Decision Trees: 0.67\n",
      "Average precision score Random Forest: 0.74\n",
      "Average precision score Random Forest Using Feature Selection : 0.72\n"
     ]
    }
   ],
   "source": [
    "from sklearn.metrics import average_precision_score\n",
    "\n",
    "# Compute average precision from prediction scores for each model\n",
    "average_precision1 = average_precision_score(y_test, prediction1)\n",
    "average_precision2 = average_precision_score(y_test, prediction2)\n",
    "average_precision3 = average_precision_score(y_test, prediction3)\n",
    "average_precision4 = average_precision_score(y_test, prediction4)\n",
    "average_precision5 = average_precision_score(y_test1, prediction_RFWFST)\n",
    "\n",
    "# Print the average precision for each model\n",
    "print('Average precision score Logistic Regression: {0:0.2f}'.format(average_precision1))\n",
    "print('Average precision score Easy Ensemble AdaBoost: {0:0.2f}'.format(average_precision2))\n",
    "print('Average precision score Decision Trees: {0:0.2f}'.format(average_precision3))\n",
    "print('Average precision score Random Forest: {0:0.2f}'.format(average_precision4))\n",
    "print('Average precision score Random Forest Using Feature Selection : {0:0.2f}'.format(average_precision5))"
   ]
  },
  {
   "attachments": {
    "AP.PNG": {
     "image/png": "[encoded data removed]"
    }
   },
   "cell_type": "markdown",
   "metadata": {},
   "source": [
    "![AP.PNG](attachment:AP.PNG)"
   ]
  },
  {
   "cell_type": "code",
   "execution_count": 51,
   "metadata": {},
   "outputs": [
    {
     "ename": "NameError",
     "evalue": "name 'model5' is not defined",
     "output_type": "error",
     "traceback": [
      "\u001b[1;31m---------------------------------------------------------------------------\u001b[0m",
      "\u001b[1;31mNameError\u001b[0m                                 Traceback (most recent call last)",
      "\u001b[1;32m<ipython-input-51-ac5e327f278b>\u001b[0m in \u001b[0;36m<module>\u001b[1;34m\u001b[0m\n\u001b[0;32m      8\u001b[0m \u001b[0mplot_precision_recall_curve\u001b[0m\u001b[1;33m(\u001b[0m\u001b[0mmodel3\u001b[0m\u001b[1;33m,\u001b[0m \u001b[0mX_test\u001b[0m\u001b[1;33m,\u001b[0m \u001b[0my_test\u001b[0m\u001b[1;33m,\u001b[0m \u001b[0max\u001b[0m \u001b[1;33m=\u001b[0m \u001b[0mplt\u001b[0m\u001b[1;33m.\u001b[0m\u001b[0mgca\u001b[0m\u001b[1;33m(\u001b[0m\u001b[1;33m)\u001b[0m\u001b[1;33m,\u001b[0m\u001b[0mname\u001b[0m \u001b[1;33m=\u001b[0m \u001b[1;34m\"Decision Trees\"\u001b[0m\u001b[1;33m)\u001b[0m\u001b[1;33m\u001b[0m\u001b[1;33m\u001b[0m\u001b[0m\n\u001b[0;32m      9\u001b[0m \u001b[0mplot_precision_recall_curve\u001b[0m\u001b[1;33m(\u001b[0m\u001b[0mmodel4\u001b[0m\u001b[1;33m,\u001b[0m \u001b[0mX_test\u001b[0m\u001b[1;33m,\u001b[0m \u001b[0my_test\u001b[0m\u001b[1;33m,\u001b[0m \u001b[0max\u001b[0m \u001b[1;33m=\u001b[0m \u001b[0mplt\u001b[0m\u001b[1;33m.\u001b[0m\u001b[0mgca\u001b[0m\u001b[1;33m(\u001b[0m\u001b[1;33m)\u001b[0m\u001b[1;33m,\u001b[0m\u001b[0mname\u001b[0m \u001b[1;33m=\u001b[0m \u001b[1;34m\"Random Forest\"\u001b[0m\u001b[1;33m)\u001b[0m\u001b[1;33m\u001b[0m\u001b[1;33m\u001b[0m\u001b[0m\n\u001b[1;32m---> 10\u001b[1;33m \u001b[0mplot_precision_recall_curve\u001b[0m\u001b[1;33m(\u001b[0m\u001b[0mmodel5\u001b[0m\u001b[1;33m,\u001b[0m \u001b[0mX_test1\u001b[0m\u001b[1;33m,\u001b[0m \u001b[0my_test1\u001b[0m\u001b[1;33m,\u001b[0m \u001b[0max\u001b[0m \u001b[1;33m=\u001b[0m \u001b[0mplt\u001b[0m\u001b[1;33m.\u001b[0m\u001b[0mgca\u001b[0m\u001b[1;33m(\u001b[0m\u001b[1;33m)\u001b[0m\u001b[1;33m,\u001b[0m\u001b[0mname\u001b[0m \u001b[1;33m=\u001b[0m \u001b[1;34m\"Random Forest Using Feature Selection\"\u001b[0m\u001b[1;33m)\u001b[0m\u001b[1;33m\u001b[0m\u001b[1;33m\u001b[0m\u001b[0m\n\u001b[0m\u001b[0;32m     11\u001b[0m \u001b[0mplt\u001b[0m\u001b[1;33m.\u001b[0m\u001b[0mxlim\u001b[0m\u001b[1;33m(\u001b[0m\u001b[1;33m[\u001b[0m\u001b[1;36m0.0\u001b[0m\u001b[1;33m,\u001b[0m \u001b[1;36m1.05\u001b[0m\u001b[1;33m]\u001b[0m\u001b[1;33m)\u001b[0m\u001b[1;33m\u001b[0m\u001b[1;33m\u001b[0m\u001b[0m\n\u001b[0;32m     12\u001b[0m \u001b[0mplt\u001b[0m\u001b[1;33m.\u001b[0m\u001b[0mylim\u001b[0m\u001b[1;33m(\u001b[0m\u001b[1;33m[\u001b[0m\u001b[1;36m0.0\u001b[0m\u001b[1;33m,\u001b[0m \u001b[1;36m1.05\u001b[0m\u001b[1;33m]\u001b[0m\u001b[1;33m)\u001b[0m\u001b[1;33m\u001b[0m\u001b[1;33m\u001b[0m\u001b[0m\n",
      "\u001b[1;31mNameError\u001b[0m: name 'model5' is not defined"
     ]
    },
    {
     "data": {
      "image/png": "[encoded data removed]",
      "text/plain": [
       "<Figure size 432x288 with 1 Axes>"
      ]
     },
     "metadata": {},
     "output_type": "display_data"
    }
   ],
   "source": [
    "from sklearn.metrics import precision_recall_curve\n",
    "from sklearn.metrics import plot_precision_recall_curve\n",
    "import matplotlib.pyplot as plt\n",
    "\n",
    "# Plot precision-recall pairs for different probability thresholds of each model\n",
    "plot_precision_recall_curve(model1, X_test, y_test, ax = plt.gca(),name = \"Logistic Regression\")\n",
    "plot_precision_recall_curve(model2, X_test, y_test, ax = plt.gca(),name = \"Easy Ensemble AdaBoost\")\n",
    "plot_precision_recall_curve(model3, X_test, y_test, ax = plt.gca(),name = \"Decision Trees\")\n",
    "plot_precision_recall_curve(model4, X_test, y_test, ax = plt.gca(),name = \"Random Forest\")\n",
    "plot_precision_recall_curve(model5, X_test1, y_test1, ax = plt.gca(),name = \"Random Forest Using Feature Selection\")\n",
    "plt.xlim([0.0, 1.05])\n",
    "plt.ylim([0.0, 1.05])\n",
    "plt.title('Precision-Recall curve')"
   ]
  },
  {
   "cell_type": "markdown",
   "metadata": {},
   "source": [
    "In fact, a model with perfect skill is depicted as a point at a coordinate of (1,1). A skillful model is represented by a curve that bows towards a coordinate of (1,1). A no-skill classifier will be a horizontal line on the plot with a precision that is proportional to the number of positive examples in the dataset. Therefore, the last two classifiers selected from the Random Forest family, the first by keeping the features and the second by dropping some of the least importance are closer to the ideal model. "
   ]
  },
  {
   "cell_type": "markdown",
   "metadata": {},
   "source": [
    "### Receiver Operating Characteristic (ROC) Curve:\n",
    "Receiver operating characteristic(ROC) curve is created by plotting the true positive rate (TPR) on y-axis against the false positive rate (FPR) on x-axis at various threshold settings. \n",
    "Area under the ROC Curve (AUC) measures the entire two-dimensional area underneath the entire ROC curve (think integral calculus) from (0,0) to (1,1).\n",
    "AUC-score is always between 0 and 1.\n",
    "AUC-score gives accuracy of the proposed model.\n",
    "The top left corner of the plot is the “ideal” point - a false positive rate of zero, and a true positive rate of one. This is not very realistic, but it does mean that a larger area under the curve (AUC) is usually better.The “steepness” of ROC curves is also important, since it is ideal to maximize the true positive rate while minimizing the false positive rate."
   ]
  },
  {
   "cell_type": "code",
   "execution_count": null,
   "metadata": {},
   "outputs": [],
   "source": [
    "from sklearn.metrics import roc_curve\n",
    "\n",
    "# ROC curve for models\n",
    "fpr1, tpr1, thresh1 = roc_curve(y_test, pred_prob1[:,1], pos_label=1)\n",
    "fpr2,tpr2, thresh2 = roc_curve(y_test, pred_prob2[:,1], pos_label=1)\n",
    "fpr3, tpr3, thresh3 = roc_curve(y_test, pred_prob3[:,1], pos_label=1)\n",
    "fpr4, tpr4, thresh4 = roc_curve(y_test, pred_prob4[:,1], pos_label=1)\n",
    "fpr5, tpr5, thresh5 = roc_curve(y_test1, pred_prob5[:,1], pos_label=1)"
   ]
  },
  {
   "cell_type": "code",
   "execution_count": null,
   "metadata": {},
   "outputs": [],
   "source": [
    "# ROC curve for tpr = fpr \n",
    "random_probs = [0 for i in range(len(y_test))]\n",
    "p_fpr, p_tpr, _ = roc_curve(y_test, random_probs, pos_label=1)"
   ]
  },
  {
   "cell_type": "code",
   "execution_count": null,
   "metadata": {},
   "outputs": [],
   "source": [
    "from sklearn.metrics import roc_auc_score\n",
    "\n",
    "# AUC scores\n",
    "auc_score1 = roc_auc_score(y_test, pred_prob1[:,1])\n",
    "auc_score2 = roc_auc_score(y_test, pred_prob2[:,1])\n",
    "auc_score3 = roc_auc_score(y_test, pred_prob3[:,1])\n",
    "auc_score4 = roc_auc_score(y_test, pred_prob4[:,1])\n",
    "auc_score5 = roc_auc_score(y_test1, pred_prob5[:,1])\n",
    "\n",
    "# Print the AUC score for each model\n",
    "print('AUC score Logistic Regression: {0:0.2f}'.format(auc_score1))\n",
    "print('AUC score Easy Ensemble AdaBoost: {0:0.2f}'.format(auc_score2))\n",
    "print('AUC score Decision Trees: {0:0.2f}'.format(auc_score3))\n",
    "print('AUC score Random Forest: {0:0.2f}'.format(auc_score4))\n",
    "print('AUC score Random Forest Using Feature Selection: {0:0.2f}'.format(auc_score5))\n"
   ]
  },
  {
   "cell_type": "code",
   "execution_count": null,
   "metadata": {},
   "outputs": [],
   "source": [
    "# Plot the roc curves for the all the models using matplotlib\n",
    "plt.style.use('seaborn')\n",
    "\n",
    "# plot roc curves\n",
    "plt.plot(fpr1, tpr1, linestyle='--',color='orange', label='Logistic Regression')\n",
    "plt.plot(fpr2, tpr2, linestyle='--',color='green', label='Easy Ensemble AdaBoost')\n",
    "plt.plot(fpr3, tpr3, linestyle='--',color='green', label='Decision Trees')\n",
    "plt.plot(fpr4, tpr4, linestyle='--',color='purple', label='Random Forest')\n",
    "plt.plot(fpr5, tpr5, linestyle='--',color='pink', label='Random Forest Using Feature Selection')\n",
    "plt.plot(p_fpr, p_tpr, linestyle='--', color='blue')\n",
    "# title\n",
    "plt.title('ROC curve')\n",
    "# x label\n",
    "plt.xlabel('False Positive Rate')\n",
    "# y label\n",
    "plt.ylabel('True Positive rate')\n",
    "\n",
    "plt.legend(loc='best')\n",
    "plt.savefig('ROC',dpi=300)\n",
    "plt.show();"
   ]
  },
  {
   "cell_type": "markdown",
   "metadata": {},
   "source": [
    "### Results\n",
    "It is evident from the plot that the AUC for the Random Forest and Random Forest Using Feature Selection ROC curves are higher than that for other ROC curves. Therefore, we can say that Random Forest did a better job of classifying the positive class in the dataset. The higher the AUC, the better the performance of the model at distinguishing between the positive and negative classes. It is important to note that the classifier that has a higher AUC on the ROC curve will always have a higher AUC on the PR curve as well."
   ]
  },
  {
   "cell_type": "markdown",
   "metadata": {},
   "source": [
    "## K-Fold Cross Validation"
   ]
  },
  {
   "cell_type": "code",
   "execution_count": null,
   "metadata": {},
   "outputs": [],
   "source": [
    "# Import required library\n",
    "from sklearn.model_selection import KFold \n",
    "from sklearn.metrics import roc_curve\n",
    "import statistics as st"
   ]
  },
  {
   "cell_type": "code",
   "execution_count": null,
   "metadata": {},
   "outputs": [],
   "source": [
    "k = 10\n",
    "kf = KFold(n_splits=k, random_state=None)\n",
    "\n",
    "# Train the model\n",
    "model = LogisticRegression(solver= 'liblinear')\n",
    "\n",
    "# Create the lists\n",
    "acc_score = []\n",
    "pred_prob_list = []\n",
    "prediction_list = []\n",
    "fpr_list = []\n",
    "tpr_list = []\n",
    "thresh_list = []\n",
    "auc_scores = []\n",
    " \n",
    "for train_index , test_index in kf.split(X):    \n",
    "    X_train , X_test = X.iloc[train_index,:],X.iloc[test_index,:]\n",
    "    y_train , y_test = y[train_index] , y[test_index]\n",
    "     \n",
    "    # Fit the model\n",
    "    model = model.fit(X_train,y_train)\n",
    "         \n",
    "    # Predict probability\n",
    "    pred_prob = model.predict_proba(X_test)\n",
    "    prediction = model.predict(X_test)\n",
    "    \n",
    "        \n",
    "    # Calculating the accuracy score.\n",
    "    acc = accuracy_score(y_test, prediction)\n",
    "    acc_score.append(acc)\n",
    "    \n",
    "        \n",
    "    # Displaying results\n",
    "    print(\"Classification Report:\")\n",
    "    print(classification_report(y_test, prediction))\n",
    "    \n",
    "    # Add the probability and prediction to the list\n",
    "    pred_prob_list.append(pred_prob)\n",
    "    prediction_list.append(prediction)\n",
    "    \n",
    "    # ROC curve for models\n",
    "    fpr, tpr, thresh = roc_curve(y_test, pred_prob[:,1], pos_label=1)\n",
    "    \n",
    "    # Add fpr, tpr and thresh in the lists\n",
    "    fpr_list.append(fpr)\n",
    "    tpr_list.append(tpr)\n",
    "    thresh_list.append(thresh)\n",
    "    \n",
    "    # AUC scores\n",
    "    auc_score = roc_auc_score(y_test, pred_prob[:,1])\n",
    "    auc_scores.append(auc_score)\n",
    "    print(f\"auc_score: {auc_score}\")\n",
    "    \n",
    "# Calculate the median and average accuracy score\n",
    "avg_acc_score = sum(acc_score)/k\n",
    "print(f\"Median Accuracy Score : {st.median(acc_score)}\")\n",
    "print(f\"Average Accuracy Score : {avg_acc_score}\")  "
   ]
  },
  {
   "cell_type": "code",
   "execution_count": null,
   "metadata": {},
   "outputs": [],
   "source": [
    "# Save the model\n",
    "dump(model, 'model.joblib')"
   ]
  },
  {
   "cell_type": "code",
   "execution_count": null,
   "metadata": {},
   "outputs": [],
   "source": [
    "# Load the model\n",
    "model = load('model.joblib')"
   ]
  },
  {
   "cell_type": "code",
   "execution_count": null,
   "metadata": {},
   "outputs": [],
   "source": [
    "# ROC curve for tpr = fpr \n",
    "random_probs = [0 for i in range(len(y_test))]\n",
    "p_fpr, p_tpr, _ = roc_curve(y_test, random_probs, pos_label=1)"
   ]
  },
  {
   "cell_type": "code",
   "execution_count": null,
   "metadata": {},
   "outputs": [],
   "source": [
    "# Plot the roc curves for the all the models using matplotlib\n",
    "plt.style.use('seaborn')\n",
    "\n",
    "color = ['orange', 'green', 'pink', 'purple', 'gray', 'red', 'yellow', 'black', 'brown', 'blue']\n",
    "\n",
    "for i in range(len(fpr_list)):\n",
    "    # plot roc curves\n",
    "    plt.plot(fpr_list[i], tpr_list[i], linestyle='--',color=color[i], label='ROC fold {}'.format(i))\n",
    "    plt.plot(p_fpr, p_tpr, linestyle='--', color='blue')\n",
    "\n",
    "# title\n",
    "plt.title('ROC curve')\n",
    "# x label\n",
    "plt.xlabel('False Positive Rate')\n",
    "# y label\n",
    "plt.ylabel('True Positive rate')\n",
    "\n",
    "plt.legend(loc='best')\n",
    "plt.savefig('ROC',dpi=300)\n",
    "plt.show();"
   ]
  },
  {
   "cell_type": "markdown",
   "metadata": {},
   "source": [
    "The accuracy score obtained in each fold  indicates that the overfitting phenomenon has not happened on the model \n",
    "and the model works properly through all the folds.\n"
   ]
  },
  {
   "cell_type": "code",
   "execution_count": null,
   "metadata": {},
   "outputs": [],
   "source": []
  }
 ],
 "metadata": {
  "kernelspec": {
   "display_name": "mlenv",
   "language": "python",
   "name": "mlenv"
  },
  "language_info": {
   "codemirror_mode": {
    "name": "ipython",
    "version": 3
   },
   "file_extension": ".py",
   "mimetype": "text/x-python",
   "name": "python",
   "nbconvert_exporter": "python",
   "pygments_lexer": "ipython3",
   "version": "3.7.9"
  }
 },
 "nbformat": 4,
 "nbformat_minor": 4
}
