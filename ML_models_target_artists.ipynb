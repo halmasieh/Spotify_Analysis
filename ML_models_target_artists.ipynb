{
 "cells": [
  {
   "cell_type": "code",
   "execution_count": 98,
   "metadata": {},
   "outputs": [],
   "source": [
    "# Import dependencies\n",
    "import pandas as pd\n",
    "import numpy as np\n",
    "from sklearn.model_selection import train_test_split\n",
    "from sklearn.preprocessing import StandardScaler\n",
    "from sklearn.linear_model import LogisticRegression\n",
    "from sklearn.metrics import balanced_accuracy_score\n",
    "from imblearn.metrics import classification_report_imbalanced\n",
    "from sklearn.metrics import confusion_matrix, accuracy_score, classification_report\n",
    "from sklearn.metrics import accuracy_score\n",
    "#import tensorflow as tf\n",
    "import seaborn as sns\n",
    "from pathlib import Path\n",
    "import matplotlib.pyplot as plt"
   ]
  },
  {
   "cell_type": "code",
   "execution_count": 99,
   "metadata": {},
   "outputs": [
    {
     "data": {
      "text/html": [
       "<div>\n",
       "<style scoped>\n",
       "    .dataframe tbody tr th:only-of-type {\n",
       "        vertical-align: middle;\n",
       "    }\n",
       "\n",
       "    .dataframe tbody tr th {\n",
       "        vertical-align: top;\n",
       "    }\n",
       "\n",
       "    .dataframe thead th {\n",
       "        text-align: right;\n",
       "    }\n",
       "</style>\n",
       "<table border=\"1\" class=\"dataframe\">\n",
       "  <thead>\n",
       "    <tr style=\"text-align: right;\">\n",
       "      <th></th>\n",
       "      <th>track_popularity</th>\n",
       "      <th>duration_ms</th>\n",
       "      <th>explicit</th>\n",
       "      <th>key</th>\n",
       "      <th>time_signature</th>\n",
       "      <th>followers</th>\n",
       "      <th>artist_popularity</th>\n",
       "      <th>unique_playlists</th>\n",
       "      <th>danceability</th>\n",
       "      <th>energy</th>\n",
       "      <th>...</th>\n",
       "      <th>genres_classic bollywood</th>\n",
       "      <th>genres_classical era</th>\n",
       "      <th>genres_classical</th>\n",
       "      <th>genres_desi pop</th>\n",
       "      <th>genres_filmi</th>\n",
       "      <th>genres_hoerspiel</th>\n",
       "      <th>genres_sufi</th>\n",
       "      <th>genres_tango</th>\n",
       "      <th>genres_vintage tango</th>\n",
       "      <th>genres_other</th>\n",
       "    </tr>\n",
       "  </thead>\n",
       "  <tbody>\n",
       "    <tr>\n",
       "      <th>0</th>\n",
       "      <td>0.34</td>\n",
       "      <td>0.05</td>\n",
       "      <td>0.00</td>\n",
       "      <td>0.55</td>\n",
       "      <td>0.80</td>\n",
       "      <td>0.00</td>\n",
       "      <td>0.00</td>\n",
       "      <td>0.00</td>\n",
       "      <td>0.63</td>\n",
       "      <td>0.60</td>\n",
       "      <td>...</td>\n",
       "      <td>0.00</td>\n",
       "      <td>0.00</td>\n",
       "      <td>0.00</td>\n",
       "      <td>0.00</td>\n",
       "      <td>0.00</td>\n",
       "      <td>0.00</td>\n",
       "      <td>0.00</td>\n",
       "      <td>0.00</td>\n",
       "      <td>0.00</td>\n",
       "      <td>1.00</td>\n",
       "    </tr>\n",
       "    <tr>\n",
       "      <th>1</th>\n",
       "      <td>0.43</td>\n",
       "      <td>0.03</td>\n",
       "      <td>0.00</td>\n",
       "      <td>0.18</td>\n",
       "      <td>0.80</td>\n",
       "      <td>0.00</td>\n",
       "      <td>0.00</td>\n",
       "      <td>0.00</td>\n",
       "      <td>0.63</td>\n",
       "      <td>0.77</td>\n",
       "      <td>...</td>\n",
       "      <td>0.00</td>\n",
       "      <td>0.00</td>\n",
       "      <td>0.00</td>\n",
       "      <td>0.00</td>\n",
       "      <td>0.00</td>\n",
       "      <td>0.00</td>\n",
       "      <td>0.00</td>\n",
       "      <td>0.00</td>\n",
       "      <td>0.00</td>\n",
       "      <td>1.00</td>\n",
       "    </tr>\n",
       "    <tr>\n",
       "      <th>2</th>\n",
       "      <td>0.16</td>\n",
       "      <td>0.04</td>\n",
       "      <td>0.00</td>\n",
       "      <td>0.64</td>\n",
       "      <td>0.80</td>\n",
       "      <td>0.00</td>\n",
       "      <td>0.00</td>\n",
       "      <td>0.00</td>\n",
       "      <td>0.58</td>\n",
       "      <td>0.61</td>\n",
       "      <td>...</td>\n",
       "      <td>0.00</td>\n",
       "      <td>0.00</td>\n",
       "      <td>0.00</td>\n",
       "      <td>0.00</td>\n",
       "      <td>0.00</td>\n",
       "      <td>0.00</td>\n",
       "      <td>0.00</td>\n",
       "      <td>0.00</td>\n",
       "      <td>0.00</td>\n",
       "      <td>1.00</td>\n",
       "    </tr>\n",
       "    <tr>\n",
       "      <th>3</th>\n",
       "      <td>0.32</td>\n",
       "      <td>0.03</td>\n",
       "      <td>0.00</td>\n",
       "      <td>0.18</td>\n",
       "      <td>0.80</td>\n",
       "      <td>0.01</td>\n",
       "      <td>1.00</td>\n",
       "      <td>0.00</td>\n",
       "      <td>0.26</td>\n",
       "      <td>0.90</td>\n",
       "      <td>...</td>\n",
       "      <td>0.00</td>\n",
       "      <td>0.00</td>\n",
       "      <td>0.00</td>\n",
       "      <td>0.00</td>\n",
       "      <td>0.00</td>\n",
       "      <td>0.00</td>\n",
       "      <td>0.00</td>\n",
       "      <td>0.00</td>\n",
       "      <td>0.00</td>\n",
       "      <td>1.00</td>\n",
       "    </tr>\n",
       "    <tr>\n",
       "      <th>4</th>\n",
       "      <td>0.35</td>\n",
       "      <td>0.04</td>\n",
       "      <td>0.00</td>\n",
       "      <td>0.36</td>\n",
       "      <td>0.60</td>\n",
       "      <td>0.00</td>\n",
       "      <td>0.00</td>\n",
       "      <td>0.00</td>\n",
       "      <td>0.62</td>\n",
       "      <td>0.52</td>\n",
       "      <td>...</td>\n",
       "      <td>0.00</td>\n",
       "      <td>0.00</td>\n",
       "      <td>0.00</td>\n",
       "      <td>0.00</td>\n",
       "      <td>0.00</td>\n",
       "      <td>0.00</td>\n",
       "      <td>0.00</td>\n",
       "      <td>0.00</td>\n",
       "      <td>0.00</td>\n",
       "      <td>1.00</td>\n",
       "    </tr>\n",
       "  </tbody>\n",
       "</table>\n",
       "<p>5 rows × 30 columns</p>\n",
       "</div>"
      ],
      "text/plain": [
       "   track_popularity  duration_ms  explicit  key  time_signature  followers  \\\n",
       "0              0.34         0.05      0.00 0.55            0.80       0.00   \n",
       "1              0.43         0.03      0.00 0.18            0.80       0.00   \n",
       "2              0.16         0.04      0.00 0.64            0.80       0.00   \n",
       "3              0.32         0.03      0.00 0.18            0.80       0.01   \n",
       "4              0.35         0.04      0.00 0.36            0.60       0.00   \n",
       "\n",
       "   artist_popularity  unique_playlists  danceability  energy  ...  \\\n",
       "0               0.00              0.00          0.63    0.60  ...   \n",
       "1               0.00              0.00          0.63    0.77  ...   \n",
       "2               0.00              0.00          0.58    0.61  ...   \n",
       "3               1.00              0.00          0.26    0.90  ...   \n",
       "4               0.00              0.00          0.62    0.52  ...   \n",
       "\n",
       "   genres_classic bollywood  genres_classical era  genres_classical  \\\n",
       "0                      0.00                  0.00              0.00   \n",
       "1                      0.00                  0.00              0.00   \n",
       "2                      0.00                  0.00              0.00   \n",
       "3                      0.00                  0.00              0.00   \n",
       "4                      0.00                  0.00              0.00   \n",
       "\n",
       "   genres_desi pop  genres_filmi  genres_hoerspiel  genres_sufi  genres_tango  \\\n",
       "0             0.00          0.00              0.00         0.00          0.00   \n",
       "1             0.00          0.00              0.00         0.00          0.00   \n",
       "2             0.00          0.00              0.00         0.00          0.00   \n",
       "3             0.00          0.00              0.00         0.00          0.00   \n",
       "4             0.00          0.00              0.00         0.00          0.00   \n",
       "\n",
       "   genres_vintage tango  genres_other  \n",
       "0                  0.00          1.00  \n",
       "1                  0.00          1.00  \n",
       "2                  0.00          1.00  \n",
       "3                  0.00          1.00  \n",
       "4                  0.00          1.00  \n",
       "\n",
       "[5 rows x 30 columns]"
      ]
     },
     "execution_count": 99,
     "metadata": {},
     "output_type": "execute_result"
    }
   ],
   "source": [
    "# Import the input dataset\n",
    "tracks_path = 'Resources/pre_spotify_target_artists.csv'\n",
    "tracks_df = pd.read_csv(tracks_path)\n",
    "tracks_df.head()"
   ]
  },
  {
   "cell_type": "code",
   "execution_count": 100,
   "metadata": {},
   "outputs": [
    {
     "data": {
      "text/plain": [
       "Index(['track_popularity', 'duration_ms', 'explicit', 'key', 'time_signature',\n",
       "       'followers', 'artist_popularity', 'unique_playlists', 'danceability',\n",
       "       'energy', 'loudness', 'mode', 'speechiness', 'acousticness',\n",
       "       'instrumentalness', 'liveness', 'valence', 'tempo', 'artist_frequency',\n",
       "       'Year', 'genres_classic bollywood', 'genres_classical era',\n",
       "       'genres_classical', 'genres_desi pop', 'genres_filmi',\n",
       "       'genres_hoerspiel', 'genres_sufi', 'genres_tango',\n",
       "       'genres_vintage tango', 'genres_other'],\n",
       "      dtype='object')"
      ]
     },
     "execution_count": 100,
     "metadata": {},
     "output_type": "execute_result"
    }
   ],
   "source": [
    "# Check the columns of dataframe\n",
    "tracks_df.columns"
   ]
  },
  {
   "cell_type": "code",
   "execution_count": 101,
   "metadata": {},
   "outputs": [],
   "source": [
    "# Remove artist_popularity target from features data\n",
    "y = tracks_df.artist_popularity\n",
    "X = tracks_df.drop(columns=[\"artist_popularity\"])\n",
    "\n",
    "# Split training/test datasets\n",
    "X_train, X_test, y_train, y_test = train_test_split(X, y, random_state=42)\n",
    "\n",
    "# Create a StandardScaler instance\n",
    "scaler = StandardScaler()\n",
    "\n",
    "# Fit the StandardScaler\n",
    "X_scaler = scaler.fit(X_train)\n",
    "\n",
    "# Scale the data\n",
    "X_train = X_scaler.transform(X_train)\n",
    "X_test = X_scaler.transform(X_test)"
   ]
  },
  {
   "cell_type": "markdown",
   "metadata": {},
   "source": [
    "## Model 1: Logistic Regression"
   ]
  },
  {
   "cell_type": "code",
   "execution_count": 102,
   "metadata": {},
   "outputs": [],
   "source": [
    "from sklearn.linear_model import LogisticRegression\n",
    "\n",
    "# train model\n",
    "model1 = LogisticRegression(solver=\"lbfgs\",max_iter=1000)\n",
    "\n",
    "# fit model\n",
    "model1 = model1.fit(X_train, y_train)\n",
    "\n",
    "# predict probability\n",
    "pred_prob1 = model1.predict_proba(X_test)\n",
    "prediction1 = model1.predict(X_test)"
   ]
  },
  {
   "cell_type": "code",
   "execution_count": 103,
   "metadata": {},
   "outputs": [
    {
     "name": "stdout",
     "output_type": "stream",
     "text": [
      "[[0.92587481 0.07412519]\n",
      " [0.8974364  0.1025636 ]\n",
      " [0.01116986 0.98883014]\n",
      " ...\n",
      " [0.62892688 0.37107312]\n",
      " [0.71550559 0.28449441]\n",
      " [0.94272817 0.05727183]]\n"
     ]
    }
   ],
   "source": [
    "print(pred_prob1)"
   ]
  },
  {
   "cell_type": "code",
   "execution_count": 104,
   "metadata": {},
   "outputs": [
    {
     "name": "stdout",
     "output_type": "stream",
     "text": [
      "[0. 0. 1. ... 0. 0. 0.]\n"
     ]
    }
   ],
   "source": [
    "print(prediction1)"
   ]
  },
  {
   "cell_type": "code",
   "execution_count": 105,
   "metadata": {},
   "outputs": [
    {
     "data": {
      "image/png": "[encoded data removed]",
      "text/plain": [
       "<Figure size 216x216 with 1 Axes>"
      ]
     },
     "metadata": {},
     "output_type": "display_data"
    }
   ],
   "source": [
    "# Define a function to create a nicer looking confusion matrix\n",
    "sns.set(font_scale=1.5)\n",
    "def plot_confusion_matrix(y_test,y_pred):\n",
    "    fig,ax = plt.subplots(figsize=(3,3))\n",
    "    ax = sns.heatmap(confusion_matrix(y_test, y_pred), annot=True, cbar=False, cmap=\"twilight_r\")\n",
    "    plt.xlabel(\"Predicted Target\")\n",
    "    plt.ylabel(\"Actual Target\")\n",
    "plot_confusion_matrix(y_test, prediction1)"
   ]
  },
  {
   "cell_type": "code",
   "execution_count": 106,
   "metadata": {},
   "outputs": [
    {
     "name": "stdout",
     "output_type": "stream",
     "text": [
      "Accuracy Score : 0.8705655962510949\n",
      "Classification Report\n",
      "              precision    recall  f1-score   support\n",
      "\n",
      "         0.0       0.82      0.91      0.86     69924\n",
      "         1.0       0.92      0.84      0.88     86495\n",
      "\n",
      "    accuracy                           0.87    156419\n",
      "   macro avg       0.87      0.87      0.87    156419\n",
      "weighted avg       0.88      0.87      0.87    156419\n",
      "\n"
     ]
    }
   ],
   "source": [
    "# Calculating the accuracy score.\n",
    "acc_score = accuracy_score(y_test, prediction1)\n",
    "\n",
    "# Displaying results\n",
    "print(f\"Accuracy Score : {acc_score}\")\n",
    "print(\"Classification Report\")\n",
    "print(classification_report(y_test, prediction1))"
   ]
  },
  {
   "cell_type": "code",
   "execution_count": 107,
   "metadata": {},
   "outputs": [
    {
     "data": {
      "text/plain": [
       "['model21.joblib']"
      ]
     },
     "execution_count": 107,
     "metadata": {},
     "output_type": "execute_result"
    }
   ],
   "source": [
    "from joblib import dump, load\n",
    "dump(model1, 'model21.joblib')"
   ]
  },
  {
   "cell_type": "code",
   "execution_count": 108,
   "metadata": {},
   "outputs": [],
   "source": [
    "model1 = load('model21.joblib')"
   ]
  },
  {
   "cell_type": "markdown",
   "metadata": {},
   "source": [
    "## Model 2: Easy Ensemble AdaBoost Classifier"
   ]
  },
  {
   "cell_type": "code",
   "execution_count": 109,
   "metadata": {},
   "outputs": [],
   "source": [
    "# from imblearn.ensemble import EasyEnsembleClassifier\n",
    "\n",
    "# # Create a an easy ensemble classifier.\n",
    "# model2 = EasyEnsembleClassifier(n_estimators=100, random_state=1)\n",
    "\n",
    "# # Fit the model\n",
    "# model2 =model2.fit(X_train, y_train)\n",
    "\n",
    "# # predict probability\n",
    "# pred_prob2 = model2.predict_proba(X_test)\n",
    "# prediction2 = model2.predict(X_test)"
   ]
  },
  {
   "cell_type": "code",
   "execution_count": 110,
   "metadata": {},
   "outputs": [],
   "source": [
    "# # Create the confusion matrix \n",
    "# plot_confusion_matrix(y_test, prediction2)"
   ]
  },
  {
   "cell_type": "code",
   "execution_count": 111,
   "metadata": {},
   "outputs": [],
   "source": [
    "# # Calculate the balanced accuracy score\n",
    "# bac_score = balanced_accuracy_score(y_test, prediction2)\n",
    "\n",
    "# # Print the imbalanced classification report\n",
    "# print(\"Classification Report\")\n",
    "# print(classification_report_imbalanced(y_test, prediction2))"
   ]
  },
  {
   "cell_type": "code",
   "execution_count": 112,
   "metadata": {},
   "outputs": [],
   "source": [
    "# from joblib import dump, load\n",
    "# dump(model2, 'model22.joblib')"
   ]
  },
  {
   "cell_type": "code",
   "execution_count": 113,
   "metadata": {},
   "outputs": [],
   "source": [
    "model2 = load('model22.joblib')"
   ]
  },
  {
   "cell_type": "markdown",
   "metadata": {},
   "source": [
    "## Model 3: Decision Trees"
   ]
  },
  {
   "cell_type": "code",
   "execution_count": 16,
   "metadata": {},
   "outputs": [],
   "source": [
    "# from sklearn import tree\n",
    "\n",
    "# # Creating the decision tree classifier instance.\n",
    "# model3 = tree.DecisionTreeClassifier()\n",
    "\n",
    "# # Fit the model.\n",
    "# model3 = model3.fit(X_train, y_train)\n",
    "\n",
    "# # predict probability\n",
    "# pred_prob3 = model3.predict_proba(X_test)\n",
    "# prediction3 = model3.predict(X_test)"
   ]
  },
  {
   "cell_type": "code",
   "execution_count": 17,
   "metadata": {},
   "outputs": [
    {
     "data": {
      "image/png": "[encoded data removed]",
      "text/plain": [
       "<Figure size 216x216 with 1 Axes>"
      ]
     },
     "metadata": {},
     "output_type": "display_data"
    }
   ],
   "source": [
    "# # Create the confusion matrix \n",
    "# plot_confusion_matrix(y_test, prediction3)"
   ]
  },
  {
   "cell_type": "code",
   "execution_count": 18,
   "metadata": {},
   "outputs": [
    {
     "name": "stdout",
     "output_type": "stream",
     "text": [
      "Accuracy Score : 0.9345348071525837\n",
      "Classification Report\n",
      "              precision    recall  f1-score   support\n",
      "\n",
      "         0.0       0.93      0.93      0.93     69924\n",
      "         1.0       0.94      0.94      0.94     86495\n",
      "\n",
      "    accuracy                           0.93    156419\n",
      "   macro avg       0.93      0.93      0.93    156419\n",
      "weighted avg       0.93      0.93      0.93    156419\n",
      "\n"
     ]
    }
   ],
   "source": [
    "# # Calculating the accuracy score.\n",
    "# acc_score = accuracy_score(y_test, prediction3)\n",
    "\n",
    "# # Displaying results\n",
    "# print(f\"Accuracy Score : {acc_score}\")\n",
    "# print(\"Classification Report\")\n",
    "# print(classification_report(y_test, prediction3))"
   ]
  },
  {
   "cell_type": "code",
   "execution_count": 19,
   "metadata": {},
   "outputs": [
    {
     "data": {
      "text/plain": [
       "['model32.joblib']"
      ]
     },
     "execution_count": 19,
     "metadata": {},
     "output_type": "execute_result"
    }
   ],
   "source": [
    "# from joblib import dump, load\n",
    "# dump(model3, 'model32.joblib')"
   ]
  },
  {
   "cell_type": "code",
   "execution_count": 114,
   "metadata": {},
   "outputs": [],
   "source": [
    "model3 = load('model32.joblib')"
   ]
  },
  {
   "cell_type": "markdown",
   "metadata": {},
   "source": [
    "## Model 4: Random Forest"
   ]
  },
  {
   "cell_type": "code",
   "execution_count": 21,
   "metadata": {},
   "outputs": [],
   "source": [
    "# from sklearn.ensemble import RandomForestClassifier\n",
    "\n",
    "# # Create a random forest classifier.\n",
    "# model4 = RandomForestClassifier(n_estimators=128, random_state=78)\n",
    "\n",
    "# # Fit the model\n",
    "# model4 =model4.fit(X_train, y_train)\n",
    "\n",
    "# # predict probability\n",
    "# pred_prob4 = model4.predict_proba(X_test)\n",
    "# prediction4 = model4.predict(X_test)"
   ]
  },
  {
   "cell_type": "code",
   "execution_count": 22,
   "metadata": {},
   "outputs": [
    {
     "data": {
      "image/png": "[encoded data removed]",
      "text/plain": [
       "<Figure size 216x216 with 1 Axes>"
      ]
     },
     "metadata": {},
     "output_type": "display_data"
    }
   ],
   "source": [
    "# # Create the confusion matrix \n",
    "# plot_confusion_matrix(y_test, prediction4)"
   ]
  },
  {
   "cell_type": "code",
   "execution_count": 23,
   "metadata": {},
   "outputs": [
    {
     "name": "stdout",
     "output_type": "stream",
     "text": [
      "Accuracy Score : 0.9423599434851265\n",
      "Classification Report\n",
      "              precision    recall  f1-score   support\n",
      "\n",
      "         0.0       0.93      0.94      0.94     69924\n",
      "         1.0       0.95      0.95      0.95     86495\n",
      "\n",
      "    accuracy                           0.94    156419\n",
      "   macro avg       0.94      0.94      0.94    156419\n",
      "weighted avg       0.94      0.94      0.94    156419\n",
      "\n"
     ]
    }
   ],
   "source": [
    "# # Calculating the accuracy score.\n",
    "# acc_score = accuracy_score(y_test, prediction4)\n",
    "\n",
    "# # Displaying results\n",
    "# print(f\"Accuracy Score : {acc_score}\")\n",
    "# print(\"Classification Report\")\n",
    "# print(classification_report(y_test, prediction4))"
   ]
  },
  {
   "cell_type": "code",
   "execution_count": 24,
   "metadata": {},
   "outputs": [
    {
     "data": {
      "text/plain": [
       "['model42.joblib']"
      ]
     },
     "execution_count": 24,
     "metadata": {},
     "output_type": "execute_result"
    }
   ],
   "source": [
    "# from joblib import dump, load\n",
    "# dump(model4, 'model42.joblib')"
   ]
  },
  {
   "cell_type": "code",
   "execution_count": 115,
   "metadata": {},
   "outputs": [],
   "source": [
    "model4 = load('model42.joblib')"
   ]
  },
  {
   "cell_type": "code",
   "execution_count": 116,
   "metadata": {},
   "outputs": [
    {
     "data": {
      "text/plain": [
       "array([9.37353972e-02, 2.45042227e-02, 3.17439134e-03, 9.15368305e-03,\n",
       "       2.13698486e-03, 5.05435333e-01, 1.64162712e-02, 1.77625227e-02,\n",
       "       2.08459749e-02, 2.04500088e-02, 2.47336060e-03, 2.22862549e-02,\n",
       "       2.40919673e-02, 1.57023951e-02, 1.64019736e-02, 1.79534269e-02,\n",
       "       1.62039856e-02, 1.23886451e-01, 4.47707919e-02, 4.52582725e-05,\n",
       "       1.18684837e-05, 4.60734206e-06, 2.57562679e-05, 1.21283658e-04,\n",
       "       1.40363875e-03, 2.71615070e-06, 1.49558762e-07, 8.62538868e-07,\n",
       "       9.98462980e-04])"
      ]
     },
     "execution_count": 116,
     "metadata": {},
     "output_type": "execute_result"
    }
   ],
   "source": [
    "# Calculate feature importance in the Random Forest model.\n",
    "importances = model4.feature_importances_\n",
    "importances"
   ]
  },
  {
   "cell_type": "code",
   "execution_count": 117,
   "metadata": {},
   "outputs": [
    {
     "data": {
      "text/plain": [
       "[(0.5054353328372669, 'followers'),\n",
       " (0.12388645057696494, 'artist_frequency'),\n",
       " (0.09373539719535165, 'track_popularity'),\n",
       " (0.044770791892109855, 'Year'),\n",
       " (0.024504222745178047, 'duration_ms'),\n",
       " (0.02409196727861257, 'acousticness'),\n",
       " (0.02228625492642802, 'speechiness'),\n",
       " (0.020845974882265857, 'energy'),\n",
       " (0.020450008793244545, 'loudness'),\n",
       " (0.01795342685828946, 'valence'),\n",
       " (0.017762522700830993, 'danceability'),\n",
       " (0.01641627119995195, 'unique_playlists'),\n",
       " (0.016401973592941214, 'liveness'),\n",
       " (0.016203985602142684, 'tempo'),\n",
       " (0.015702395065815285, 'instrumentalness'),\n",
       " (0.009153683045731954, 'key'),\n",
       " (0.0031743913419569475, 'explicit'),\n",
       " (0.002473360597693925, 'mode'),\n",
       " (0.002136984863632533, 'time_signature'),\n",
       " (0.0014036387512670035, 'genres_hoerspiel'),\n",
       " (0.000998462980034621, 'genres_other'),\n",
       " (0.00012128365783799146, 'genres_filmi'),\n",
       " (4.5258272455096786e-05, 'genres_classic bollywood'),\n",
       " (2.5756267906982184e-05, 'genres_desi pop'),\n",
       " (1.1868483697020627e-05, 'genres_classical era'),\n",
       " (4.607342062056848e-06, 'genres_classical'),\n",
       " (2.7161507003501586e-06, 'genres_sufi'),\n",
       " (8.625388675208647e-07, 'genres_vintage tango'),\n",
       " (1.4955876176665558e-07, 'genres_tango')]"
      ]
     },
     "execution_count": 117,
     "metadata": {},
     "output_type": "execute_result"
    }
   ],
   "source": [
    "# Sort the features by their importance.\n",
    "sorted(zip(model4.feature_importances_, X.columns), reverse=True)"
   ]
  },
  {
   "cell_type": "code",
   "execution_count": 118,
   "metadata": {},
   "outputs": [],
   "source": [
    "# Format the values in 2 decimals \n",
    "pd.set_option('display.float_format', \"{:.2f}\".format)"
   ]
  },
  {
   "cell_type": "code",
   "execution_count": 119,
   "metadata": {},
   "outputs": [
    {
     "data": {
      "text/html": [
       "<div>\n",
       "<style scoped>\n",
       "    .dataframe tbody tr th:only-of-type {\n",
       "        vertical-align: middle;\n",
       "    }\n",
       "\n",
       "    .dataframe tbody tr th {\n",
       "        vertical-align: top;\n",
       "    }\n",
       "\n",
       "    .dataframe thead th {\n",
       "        text-align: right;\n",
       "    }\n",
       "</style>\n",
       "<table border=\"1\" class=\"dataframe\">\n",
       "  <thead>\n",
       "    <tr style=\"text-align: right;\">\n",
       "      <th></th>\n",
       "      <th>features_importance</th>\n",
       "      <th>feature</th>\n",
       "    </tr>\n",
       "  </thead>\n",
       "  <tbody>\n",
       "    <tr>\n",
       "      <th>0</th>\n",
       "      <td>0.51</td>\n",
       "      <td>followers</td>\n",
       "    </tr>\n",
       "    <tr>\n",
       "      <th>1</th>\n",
       "      <td>0.12</td>\n",
       "      <td>artist_frequency</td>\n",
       "    </tr>\n",
       "    <tr>\n",
       "      <th>2</th>\n",
       "      <td>0.09</td>\n",
       "      <td>track_popularity</td>\n",
       "    </tr>\n",
       "    <tr>\n",
       "      <th>3</th>\n",
       "      <td>0.04</td>\n",
       "      <td>Year</td>\n",
       "    </tr>\n",
       "    <tr>\n",
       "      <th>4</th>\n",
       "      <td>0.02</td>\n",
       "      <td>duration_ms</td>\n",
       "    </tr>\n",
       "    <tr>\n",
       "      <th>5</th>\n",
       "      <td>0.02</td>\n",
       "      <td>acousticness</td>\n",
       "    </tr>\n",
       "    <tr>\n",
       "      <th>6</th>\n",
       "      <td>0.02</td>\n",
       "      <td>speechiness</td>\n",
       "    </tr>\n",
       "    <tr>\n",
       "      <th>7</th>\n",
       "      <td>0.02</td>\n",
       "      <td>energy</td>\n",
       "    </tr>\n",
       "    <tr>\n",
       "      <th>8</th>\n",
       "      <td>0.02</td>\n",
       "      <td>loudness</td>\n",
       "    </tr>\n",
       "    <tr>\n",
       "      <th>9</th>\n",
       "      <td>0.02</td>\n",
       "      <td>valence</td>\n",
       "    </tr>\n",
       "    <tr>\n",
       "      <th>10</th>\n",
       "      <td>0.02</td>\n",
       "      <td>danceability</td>\n",
       "    </tr>\n",
       "    <tr>\n",
       "      <th>11</th>\n",
       "      <td>0.02</td>\n",
       "      <td>unique_playlists</td>\n",
       "    </tr>\n",
       "    <tr>\n",
       "      <th>12</th>\n",
       "      <td>0.02</td>\n",
       "      <td>liveness</td>\n",
       "    </tr>\n",
       "    <tr>\n",
       "      <th>13</th>\n",
       "      <td>0.02</td>\n",
       "      <td>tempo</td>\n",
       "    </tr>\n",
       "    <tr>\n",
       "      <th>14</th>\n",
       "      <td>0.02</td>\n",
       "      <td>instrumentalness</td>\n",
       "    </tr>\n",
       "    <tr>\n",
       "      <th>15</th>\n",
       "      <td>0.01</td>\n",
       "      <td>key</td>\n",
       "    </tr>\n",
       "    <tr>\n",
       "      <th>16</th>\n",
       "      <td>0.00</td>\n",
       "      <td>explicit</td>\n",
       "    </tr>\n",
       "    <tr>\n",
       "      <th>17</th>\n",
       "      <td>0.00</td>\n",
       "      <td>mode</td>\n",
       "    </tr>\n",
       "    <tr>\n",
       "      <th>18</th>\n",
       "      <td>0.00</td>\n",
       "      <td>time_signature</td>\n",
       "    </tr>\n",
       "    <tr>\n",
       "      <th>19</th>\n",
       "      <td>0.00</td>\n",
       "      <td>genres_hoerspiel</td>\n",
       "    </tr>\n",
       "    <tr>\n",
       "      <th>20</th>\n",
       "      <td>0.00</td>\n",
       "      <td>genres_other</td>\n",
       "    </tr>\n",
       "    <tr>\n",
       "      <th>21</th>\n",
       "      <td>0.00</td>\n",
       "      <td>genres_filmi</td>\n",
       "    </tr>\n",
       "    <tr>\n",
       "      <th>22</th>\n",
       "      <td>0.00</td>\n",
       "      <td>genres_classic bollywood</td>\n",
       "    </tr>\n",
       "    <tr>\n",
       "      <th>23</th>\n",
       "      <td>0.00</td>\n",
       "      <td>genres_desi pop</td>\n",
       "    </tr>\n",
       "    <tr>\n",
       "      <th>24</th>\n",
       "      <td>0.00</td>\n",
       "      <td>genres_classical era</td>\n",
       "    </tr>\n",
       "    <tr>\n",
       "      <th>25</th>\n",
       "      <td>0.00</td>\n",
       "      <td>genres_classical</td>\n",
       "    </tr>\n",
       "    <tr>\n",
       "      <th>26</th>\n",
       "      <td>0.00</td>\n",
       "      <td>genres_sufi</td>\n",
       "    </tr>\n",
       "    <tr>\n",
       "      <th>27</th>\n",
       "      <td>0.00</td>\n",
       "      <td>genres_vintage tango</td>\n",
       "    </tr>\n",
       "    <tr>\n",
       "      <th>28</th>\n",
       "      <td>0.00</td>\n",
       "      <td>genres_tango</td>\n",
       "    </tr>\n",
       "  </tbody>\n",
       "</table>\n",
       "</div>"
      ],
      "text/plain": [
       "    features_importance                   feature\n",
       "0                  0.51                 followers\n",
       "1                  0.12          artist_frequency\n",
       "2                  0.09          track_popularity\n",
       "3                  0.04                      Year\n",
       "4                  0.02               duration_ms\n",
       "5                  0.02              acousticness\n",
       "6                  0.02               speechiness\n",
       "7                  0.02                    energy\n",
       "8                  0.02                  loudness\n",
       "9                  0.02                   valence\n",
       "10                 0.02              danceability\n",
       "11                 0.02          unique_playlists\n",
       "12                 0.02                  liveness\n",
       "13                 0.02                     tempo\n",
       "14                 0.02          instrumentalness\n",
       "15                 0.01                       key\n",
       "16                 0.00                  explicit\n",
       "17                 0.00                      mode\n",
       "18                 0.00            time_signature\n",
       "19                 0.00          genres_hoerspiel\n",
       "20                 0.00              genres_other\n",
       "21                 0.00              genres_filmi\n",
       "22                 0.00  genres_classic bollywood\n",
       "23                 0.00           genres_desi pop\n",
       "24                 0.00      genres_classical era\n",
       "25                 0.00          genres_classical\n",
       "26                 0.00               genres_sufi\n",
       "27                 0.00      genres_vintage tango\n",
       "28                 0.00              genres_tango"
      ]
     },
     "execution_count": 119,
     "metadata": {},
     "output_type": "execute_result"
    }
   ],
   "source": [
    "feature_importance_df = pd.DataFrame(sorted(zip(model4.feature_importances_, X.columns), reverse=True), columns=[\"features_importance\", \"feature\"])\n",
    "feature_importance_df.head(30)"
   ]
  },
  {
   "cell_type": "code",
   "execution_count": 120,
   "metadata": {},
   "outputs": [
    {
     "data": {
      "image/png": "[encoded data removed]",
      "text/plain": [
       "<Figure size 1008x720 with 1 Axes>"
      ]
     },
     "metadata": {},
     "output_type": "display_data"
    }
   ],
   "source": [
    "# Plot the dataframe for the first ten observations\n",
    "fig,ax = plt.subplots(figsize=(14,10)) \n",
    "ax.barh(feature_importance_df['feature'][:10],\n",
    "       feature_importance_df['features_importance'][:10])\n",
    "ax.invert_yaxis()"
   ]
  },
  {
   "cell_type": "markdown",
   "metadata": {},
   "source": [
    "## Backward Feature Selection"
   ]
  },
  {
   "cell_type": "code",
   "execution_count": 131,
   "metadata": {},
   "outputs": [],
   "source": [
    "from sklearn.feature_selection import SequentialFeatureSelector\n",
    "from time import time"
   ]
  },
  {
   "cell_type": "code",
   "execution_count": 122,
   "metadata": {},
   "outputs": [],
   "source": [
    "# Remove target from features data\n",
    "y = tracks_df.artist_popularity\n",
    "X = tracks_df.drop(columns=[\"artist_popularity\"])"
   ]
  },
  {
   "cell_type": "code",
   "execution_count": 40,
   "metadata": {},
   "outputs": [],
   "source": [
    "# Train the model\n",
    "# model_Log = LogisticRegression(solver=\"lbfgs\",max_iter=1000)"
   ]
  },
  {
   "cell_type": "code",
   "execution_count": 43,
   "metadata": {},
   "outputs": [],
   "source": [
    "# Use backward feature selection to reduce the number of features\n",
    "# sfs = SequentialFeatureSelector(model_Log, n_features_to_select=None, direction='backward')"
   ]
  },
  {
   "cell_type": "code",
   "execution_count": 44,
   "metadata": {},
   "outputs": [
    {
     "data": {
      "text/plain": [
       "SequentialFeatureSelector(direction='backward',\n",
       "                          estimator=LogisticRegression(max_iter=1000))"
      ]
     },
     "execution_count": 44,
     "metadata": {},
     "output_type": "execute_result"
    }
   ],
   "source": [
    "# Fit the sequential feature selector model (This line of code took three days to execute)\n",
    "# sfs.fit(X, y) "
   ]
  },
  {
   "cell_type": "code",
   "execution_count": 63,
   "metadata": {},
   "outputs": [
    {
     "data": {
      "text/plain": [
       "['model_sfs.joblib']"
      ]
     },
     "execution_count": 63,
     "metadata": {},
     "output_type": "execute_result"
    }
   ],
   "source": [
    "# from joblib import dump, load\n",
    "\n",
    "# # Save the model\n",
    "# dump(sfs, 'model_sfs.joblib')"
   ]
  },
  {
   "cell_type": "code",
   "execution_count": 123,
   "metadata": {},
   "outputs": [],
   "source": [
    "# Load the model\n",
    "sfs = load('model_sfs.joblib')"
   ]
  },
  {
   "cell_type": "code",
   "execution_count": 124,
   "metadata": {},
   "outputs": [
    {
     "data": {
      "text/plain": [
       "array([ True, False,  True, False,  True,  True,  True, False,  True,\n",
       "        True,  True,  True,  True, False,  True, False, False,  True,\n",
       "        True, False, False, False, False, False,  True, False, False,\n",
       "       False, False])"
      ]
     },
     "execution_count": 124,
     "metadata": {},
     "output_type": "execute_result"
    }
   ],
   "source": [
    "# Get the number of features using backward feature selection\n",
    "# Features: 'track_popularity', 'explicit', 'time_signature', 'followers',\n",
    "# 'unique_playlists', 'energy', 'loudness', 'mode', 'speechiness', 'acousticness'\n",
    "# 'liveness', 'artist_frequency', 'year', 'genres_hoerspiel'\n",
    "sfs.get_support()"
   ]
  },
  {
   "cell_type": "code",
   "execution_count": 125,
   "metadata": {},
   "outputs": [
    {
     "name": "stdout",
     "output_type": "stream",
     "text": [
      "(625676, 14)\n"
     ]
    }
   ],
   "source": [
    "# Transform X and print the X_new shape\n",
    "X_new = sfs.transform(X)\n",
    "print(X_new.shape)"
   ]
  },
  {
   "cell_type": "code",
   "execution_count": 126,
   "metadata": {},
   "outputs": [
    {
     "name": "stdout",
     "output_type": "stream",
     "text": [
      "(625676,)\n"
     ]
    }
   ],
   "source": [
    "# Print the y shape\n",
    "print(y.shape)"
   ]
  },
  {
   "cell_type": "code",
   "execution_count": 127,
   "metadata": {},
   "outputs": [],
   "source": [
    "# Split training/test datasets\n",
    "X_train1, X_test1, y_train1, y_test1 = train_test_split(X_new, y, random_state=42)"
   ]
  },
  {
   "cell_type": "code",
   "execution_count": 70,
   "metadata": {},
   "outputs": [],
   "source": [
    "# Random Forest Classifier using feature selection"
   ]
  },
  {
   "cell_type": "code",
   "execution_count": 71,
   "metadata": {},
   "outputs": [],
   "source": [
    "# from sklearn.ensemble import RandomForestClassifier\n",
    "\n",
    "# # Create a random forest classifier. Random Forest with feature selection (RFWFS)\n",
    "# RFWFS = RandomForestClassifier(n_estimators=128, random_state=78)\n",
    "\n",
    "# # Fit the model\n",
    "# RFWFS = RFWFS.fit(X_train1,y_train1)\n",
    "\n",
    "# # Predict probability\n",
    "# pred_prob_RFWFS = RFWFS.predict_proba(X_test1)\n",
    "# prediction_RFWFS = RFWFS.predict(X_test1)"
   ]
  },
  {
   "cell_type": "code",
   "execution_count": 72,
   "metadata": {},
   "outputs": [
    {
     "data": {
      "image/png": "[encoded data removed]",
      "text/plain": [
       "<Figure size 216x216 with 1 Axes>"
      ]
     },
     "metadata": {},
     "output_type": "display_data"
    }
   ],
   "source": [
    "# # Create the confusion matrix \n",
    "# plot_confusion_matrix(y_test1, prediction_RFWFS)"
   ]
  },
  {
   "cell_type": "code",
   "execution_count": 73,
   "metadata": {},
   "outputs": [
    {
     "name": "stdout",
     "output_type": "stream",
     "text": [
      "Accuracy Score : 0.9473593361420288\n",
      "Classification Report\n",
      "              precision    recall  f1-score   support\n",
      "\n",
      "         0.0       0.94      0.95      0.94     69924\n",
      "         1.0       0.96      0.95      0.95     86495\n",
      "\n",
      "    accuracy                           0.95    156419\n",
      "   macro avg       0.95      0.95      0.95    156419\n",
      "weighted avg       0.95      0.95      0.95    156419\n",
      "\n"
     ]
    }
   ],
   "source": [
    "# # Calculating the accuracy score.\n",
    "# acc_score = accuracy_score(y_test1, prediction_RFWFS)\n",
    "\n",
    "# # Displaying results\n",
    "# print(f\"Accuracy Score : {acc_score}\")\n",
    "# print(\"Classification Report\")\n",
    "# print(classification_report(y_test1, prediction_RFWFS))"
   ]
  },
  {
   "cell_type": "code",
   "execution_count": 74,
   "metadata": {},
   "outputs": [
    {
     "data": {
      "text/plain": [
       "['model_RFWFS.joblib']"
      ]
     },
     "execution_count": 74,
     "metadata": {},
     "output_type": "execute_result"
    }
   ],
   "source": [
    "# # Save the model\n",
    "# dump(RFWFS, 'model_RFWFS.joblib')"
   ]
  },
  {
   "cell_type": "code",
   "execution_count": 128,
   "metadata": {},
   "outputs": [],
   "source": [
    "# Load the model\n",
    "RFWFS = load('model_RFWFS.joblib')\n",
    "\n",
    "# Predict probability\n",
    "pred_prob_RFWFS = RFWFS.predict_proba(X_test1)\n",
    "prediction_RFWFS = RFWFS.predict(X_test1)"
   ]
  },
  {
   "cell_type": "markdown",
   "metadata": {},
   "source": [
    "Using the backward feature selection, we reduced the number of features to 14 and then applied the Random Forest classifier to the new data set. Comparing the results, it can be seen that the accuracy score of the model has increased to 0.947.   "
   ]
  },
  {
   "cell_type": "markdown",
   "metadata": {},
   "source": [
    "## Models Evaluation "
   ]
  },
  {
   "cell_type": "markdown",
   "metadata": {},
   "source": [
    "From the numerous ways to evaluate the performance of a classifier, we use the difference between two popular performance reporting methods: Precision-Recall (PR) Curve and Receiver Operating Characteristic (ROC) Curve.\n",
    "\n",
    "### Precision-Recall (PR) Curve: \n",
    "A PR curve is simply a graph with Precision values on the y-axis and Recall values on the x-axis. In other words, the PR curve contains TP/(TP+FN) on the y-axis and TP/(TP+FP) on the x-axis. It is desired that the algorithm should have both high precision, and high recall. However, most machine learning algorithms often involve a trade-off between the two. A good PR curve has greater AUC (area under curve)."
   ]
  },
  {
   "cell_type": "markdown",
   "metadata": {},
   "source": [
    "## Precision-Recall curve  "
   ]
  },
  {
   "cell_type": "code",
   "execution_count": 129,
   "metadata": {},
   "outputs": [
    {
     "name": "stdout",
     "output_type": "stream",
     "text": [
      "Average precision score Logistic Regression: 0.86\n",
      "Average precision score Easy Ensemble AdaBoost: 0.89\n",
      "Average precision score Decision Trees: 0.92\n",
      "Average precision score Random Forest: 0.93\n",
      "Average precision score Random Forest Using Feature Selection : 0.94\n"
     ]
    }
   ],
   "source": [
    "from sklearn.metrics import average_precision_score\n",
    "\n",
    "# Compute average precision from prediction scores for each model\n",
    "average_precision1 = average_precision_score(y_test, prediction1)\n",
    "average_precision2 = average_precision_score(y_test, prediction2)\n",
    "average_precision3 = average_precision_score(y_test, prediction3)\n",
    "average_precision4 = average_precision_score(y_test, prediction4)\n",
    "average_precision5 = average_precision_score(y_test1, prediction_RFWFS)\n",
    "\n",
    "# Print the average precision for each model\n",
    "print('Average precision score Logistic Regression: {0:0.2f}'.format(average_precision1))\n",
    "print('Average precision score Easy Ensemble AdaBoost: {0:0.2f}'.format(average_precision2))\n",
    "print('Average precision score Decision Trees: {0:0.2f}'.format(average_precision3))\n",
    "print('Average precision score Random Forest: {0:0.2f}'.format(average_precision4))\n",
    "print('Average precision score Random Forest Using Feature Selection : {0:0.2f}'.format(average_precision5))"
   ]
  },
  {
   "attachments": {
    "AP.PNG": {
     "image/png": "[encoded data removed]"
    }
   },
   "cell_type": "markdown",
   "metadata": {},
   "source": [
    "![AP.PNG](attachment:AP.PNG)"
   ]
  },
  {
   "cell_type": "code",
   "execution_count": 130,
   "metadata": {},
   "outputs": [
    {
     "data": {
      "text/plain": [
       "Text(0.5, 1.0, 'Precision-Recall curve')"
      ]
     },
     "execution_count": 130,
     "metadata": {},
     "output_type": "execute_result"
    },
    {
     "data": {
      "image/png": "[encoded data removed]",
      "text/plain": [
       "<Figure size 576x396 with 1 Axes>"
      ]
     },
     "metadata": {},
     "output_type": "display_data"
    }
   ],
   "source": [
    "from sklearn.metrics import precision_recall_curve\n",
    "from sklearn.metrics import plot_precision_recall_curve\n",
    "import matplotlib.pyplot as plt\n",
    "\n",
    "# Plot precision-recall pairs for different probability thresholds of each model\n",
    "plot_precision_recall_curve(model1, X_test, y_test, ax = plt.gca(),name = \"Logistic Regression\")\n",
    "plot_precision_recall_curve(model2, X_test, y_test, ax = plt.gca(),name = \"Easy Ensemble AdaBoost\")\n",
    "plot_precision_recall_curve(model3, X_test, y_test, ax = plt.gca(),name = \"Decision Trees\")\n",
    "plot_precision_recall_curve(model4, X_test, y_test, ax = plt.gca(),name = \"Random Forest\")\n",
    "plot_precision_recall_curve(RFWFS, X_test1, y_test1, ax = plt.gca(),name = \"Random Forest Using Feature Selection\")\n",
    "plt.xlim([0.0, 1.05])\n",
    "plt.ylim([0.0, 1.05])\n",
    "plt.title('Precision-Recall curve')"
   ]
  },
  {
   "cell_type": "markdown",
   "metadata": {},
   "source": [
    "In fact, a model with perfect skill is depicted as a point at a coordinate of (1,1). A skillful model is represented by a curve that bows towards a coordinate of (1,1). A no-skill classifier will be a horizontal line on the plot with a precision that is proportional to the number of positive examples in the dataset. Therefore, the last two classifiers selected from the Random Forest family, the first by keeping the features and the second by dropping some of the least importance are closer to the ideal model. "
   ]
  },
  {
   "cell_type": "markdown",
   "metadata": {},
   "source": [
    "### Receiver Operating Characteristic (ROC) Curve:\n",
    "Receiver operating characteristic(ROC) curve is created by plotting the true positive rate (TPR) on y-axis against the false positive rate (FPR) on x-axis at various threshold settings. \n",
    "Area under the ROC Curve (AUC) measures the entire two-dimensional area underneath the entire ROC curve (think integral calculus) from (0,0) to (1,1).\n",
    "AUC-score is always between 0 and 1.\n",
    "AUC-score gives accuracy of the proposed model.\n",
    "The top left corner of the plot is the “ideal” point - a false positive rate of zero, and a true positive rate of one. This is not very realistic, but it does mean that a larger area under the curve (AUC) is usually better.The “steepness” of ROC curves is also important, since it is ideal to maximize the true positive rate while minimizing the false positive rate."
   ]
  },
  {
   "cell_type": "code",
   "execution_count": 132,
   "metadata": {},
   "outputs": [],
   "source": [
    "from sklearn.metrics import roc_curve\n",
    "\n",
    "# ROC curve for models\n",
    "fpr1, tpr1, thresh1 = roc_curve(y_test, pred_prob1[:,1], pos_label=1)\n",
    "fpr2,tpr2, thresh2 = roc_curve(y_test, pred_prob2[:,1], pos_label=1)\n",
    "fpr3, tpr3, thresh3 = roc_curve(y_test, pred_prob3[:,1], pos_label=1)\n",
    "fpr4, tpr4, thresh4 = roc_curve(y_test, pred_prob4[:,1], pos_label=1)\n",
    "fpr5, tpr5, thresh5 = roc_curve(y_test1, pred_prob_RFWFS[:,1], pos_label=1)"
   ]
  },
  {
   "cell_type": "code",
   "execution_count": 133,
   "metadata": {},
   "outputs": [],
   "source": [
    "# ROC curve for tpr = fpr \n",
    "random_probs = [0 for i in range(len(y_test))]\n",
    "p_fpr, p_tpr, _ = roc_curve(y_test, random_probs, pos_label=1)"
   ]
  },
  {
   "cell_type": "code",
   "execution_count": 134,
   "metadata": {},
   "outputs": [
    {
     "name": "stdout",
     "output_type": "stream",
     "text": [
      "AUC score Logistic Regression: 0.94\n",
      "AUC score Easy Ensemble AdaBoost: 0.97\n",
      "AUC score Decision Trees: 0.93\n",
      "AUC score Random Forest: 0.99\n",
      "AUC score Random Forest Using Feature Selection: 0.99\n"
     ]
    }
   ],
   "source": [
    "from sklearn.metrics import roc_auc_score\n",
    "\n",
    "# AUC scores\n",
    "auc_score1 = roc_auc_score(y_test, pred_prob1[:,1])\n",
    "auc_score2 = roc_auc_score(y_test, pred_prob2[:,1])\n",
    "auc_score3 = roc_auc_score(y_test, pred_prob3[:,1])\n",
    "auc_score4 = roc_auc_score(y_test, pred_prob4[:,1])\n",
    "auc_score5 = roc_auc_score(y_test1, pred_prob_RFWFS[:,1])\n",
    "\n",
    "# Print the AUC score for each model\n",
    "print('AUC score Logistic Regression: {0:0.2f}'.format(auc_score1))\n",
    "print('AUC score Easy Ensemble AdaBoost: {0:0.2f}'.format(auc_score2))\n",
    "print('AUC score Decision Trees: {0:0.2f}'.format(auc_score3))\n",
    "print('AUC score Random Forest: {0:0.2f}'.format(auc_score4))\n",
    "print('AUC score Random Forest Using Feature Selection: {0:0.2f}'.format(auc_score5))\n"
   ]
  },
  {
   "cell_type": "code",
   "execution_count": 135,
   "metadata": {},
   "outputs": [
    {
     "data": {
      "image/png": "[encoded data removed]",
      "text/plain": [
       "<Figure size 576x396 with 1 Axes>"
      ]
     },
     "metadata": {},
     "output_type": "display_data"
    }
   ],
   "source": [
    "# Plot the roc curves for the all the models using matplotlib\n",
    "plt.style.use('seaborn')\n",
    "\n",
    "# plot roc curves\n",
    "plt.plot(fpr1, tpr1, linestyle='--',color='orange', label='Logistic Regression')\n",
    "plt.plot(fpr2, tpr2, linestyle='--',color='green', label='Easy Ensemble AdaBoost')\n",
    "plt.plot(fpr3, tpr3, linestyle='--',color='green', label='Decision Trees')\n",
    "plt.plot(fpr4, tpr4, linestyle='--',color='purple', label='Random Forest')\n",
    "plt.plot(fpr5, tpr5, linestyle='--',color='pink', label='Random Forest Using Feature Selection')\n",
    "plt.plot(p_fpr, p_tpr, linestyle='--', color='blue')\n",
    "# title\n",
    "plt.title('ROC curve')\n",
    "# x label\n",
    "plt.xlabel('False Positive Rate')\n",
    "# y label\n",
    "plt.ylabel('True Positive rate')\n",
    "\n",
    "plt.legend(loc='best')\n",
    "plt.savefig('ROC',dpi=300)\n",
    "plt.show();"
   ]
  },
  {
   "cell_type": "markdown",
   "metadata": {},
   "source": [
    "### Results\n",
    "It is evident from the plot that the AUC for the Random Forest and Random Forest Using Feature Selection ROC curves are higher than that for other ROC curves. Therefore, we can say that Random Forest did a better job of classifying the positive class in the dataset. The higher the AUC, the better the performance of the model at distinguishing between the positive and negative classes. It is important to note that the classifier that has a higher AUC on the ROC curve will always have a higher AUC on the PR curve as well."
   ]
  },
  {
   "cell_type": "markdown",
   "metadata": {},
   "source": [
    "## K-Fold Cross Validation"
   ]
  },
  {
   "cell_type": "code",
   "execution_count": 136,
   "metadata": {},
   "outputs": [],
   "source": [
    "# Import required library\n",
    "from sklearn.model_selection import KFold \n",
    "import statistics as st"
   ]
  },
  {
   "cell_type": "code",
   "execution_count": 137,
   "metadata": {},
   "outputs": [],
   "source": [
    "# k = 10\n",
    "# kf = KFold(n_splits=k, random_state=None)\n",
    "\n",
    "# # Train the model\n",
    "# model = LogisticRegression(solver= 'liblinear')\n",
    "\n",
    "# acc_score = []\n",
    "# pred_prob_list = []\n",
    "# prediction_list = []\n",
    "# fpr_list = []\n",
    "# tpr_list = []\n",
    "# thresh_list = []\n",
    "# auc_scores = []\n",
    " \n",
    "# for train_index , test_index in kf.split(X):    \n",
    "#     X_train , X_test = X.iloc[train_index,:],X.iloc[test_index,:]\n",
    "#     y_train , y_test = y[train_index] , y[test_index]\n",
    "     \n",
    "#     # Fit the model\n",
    "#     model = model.fit(X_train,y_train)\n",
    "         \n",
    "#     # Predict probability\n",
    "#     pred_prob = model.predict_proba(X_test)\n",
    "#     prediction = model.predict(X_test)\n",
    "    \n",
    "        \n",
    "#     # Calculating the accuracy score.\n",
    "#     acc = accuracy_score(y_test, prediction)\n",
    "#     acc_score.append(acc)\n",
    "    \n",
    "        \n",
    "#     # Displaying results\n",
    "#     print(\"Classification Report:\")\n",
    "#     print(classification_report(y_test, prediction))\n",
    "    \n",
    "#     # Add the probability and prediction to the list\n",
    "#     pred_prob_list.append(pred_prob)\n",
    "#     prediction_list.append(prediction)\n",
    "    \n",
    "#     # ROC curve for models\n",
    "#     fpr, tpr, thresh = roc_curve(y_test, pred_prob[:,1], pos_label=1)\n",
    "    \n",
    "#     # Add fpr, tpr and thresh in the lists\n",
    "#     fpr_list.append(fpr)\n",
    "#     tpr_list.append(tpr)\n",
    "#     thresh_list.append(thresh)\n",
    "    \n",
    "#     # AUC scores\n",
    "#     auc_score = roc_auc_score(y_test, pred_prob[:,1])\n",
    "#     auc_scores.append(auc_score)\n",
    "#     print(f\"auc_score: {auc_score}\")\n",
    "    \n",
    "# # Calculate the median and average accuracy score\n",
    "# avg_acc_score = sum(acc_score)/k\n",
    "# print(f\"Median Accuracy Score : {st.median(acc_score)}\")\n",
    "# print(f\"Median auc_score): {st.median(auc_scores)}\")\n",
    "# print(f\"Average Accuracy Score : {avg_acc_score}\")   "
   ]
  },
  {
   "cell_type": "code",
   "execution_count": 138,
   "metadata": {},
   "outputs": [],
   "source": [
    "# from joblib import dump, load\n",
    "# dump(model, 'model-2.joblib')"
   ]
  },
  {
   "cell_type": "code",
   "execution_count": 139,
   "metadata": {},
   "outputs": [],
   "source": [
    "model = load('model-2.joblib')"
   ]
  },
  {
   "cell_type": "code",
   "execution_count": 140,
   "metadata": {},
   "outputs": [
    {
     "name": "stdout",
     "output_type": "stream",
     "text": [
      "10\n"
     ]
    }
   ],
   "source": [
    "print(len(pred_prob_list))"
   ]
  },
  {
   "cell_type": "code",
   "execution_count": 141,
   "metadata": {},
   "outputs": [],
   "source": [
    "# ROC curve for tpr = fpr \n",
    "random_probs = [0 for i in range(len(y_test))]\n",
    "p_fpr, p_tpr, _ = roc_curve(y_test, random_probs, pos_label=1)"
   ]
  },
  {
   "cell_type": "code",
   "execution_count": 142,
   "metadata": {},
   "outputs": [
    {
     "data": {
      "image/png": "[encoded data removed]",
      "text/plain": [
       "<Figure size 576x396 with 1 Axes>"
      ]
     },
     "metadata": {},
     "output_type": "display_data"
    }
   ],
   "source": [
    "# Plot the roc curves for the all the models using matplotlib\n",
    "plt.style.use('seaborn')\n",
    "\n",
    "color = ['orange', 'green', 'pink', 'purple', 'gray', 'red', 'yellow', 'black', 'brown', 'blue']\n",
    "\n",
    "for i in range(len(fpr_list)):\n",
    "    # plot roc curves\n",
    "    plt.plot(fpr_list[i], tpr_list[i], linestyle='--',color=color[i], label='ROC fold {}'.format(i))\n",
    "    plt.plot(p_fpr, p_tpr, linestyle='--', color='blue')\n",
    "\n",
    "# title\n",
    "plt.title('ROC curve')\n",
    "# x label\n",
    "plt.xlabel('False Positive Rate')\n",
    "# y label\n",
    "plt.ylabel('True Positive rate')\n",
    "\n",
    "plt.legend(loc='best')\n",
    "plt.savefig('ROC',dpi=300)\n",
    "plt.show();"
   ]
  },
  {
   "cell_type": "markdown",
   "metadata": {},
   "source": [
    "## Results\n",
    "The Median Accuracy Score for the K-Fold cross validation, k=10 is 0.82 and the ROC curve of all the folds indicates one area. There are no significient changes to the fold accuracy score."
   ]
  }
 ],
 "metadata": {
  "kernelspec": {
   "display_name": "mlenv",
   "language": "python",
   "name": "mlenv"
  },
  "language_info": {
   "codemirror_mode": {
    "name": "ipython",
    "version": 3
   },
   "file_extension": ".py",
   "mimetype": "text/x-python",
   "name": "python",
   "nbconvert_exporter": "python",
   "pygments_lexer": "ipython3",
   "version": "3.7.9"
  }
 },
 "nbformat": 4,
 "nbformat_minor": 4
}
